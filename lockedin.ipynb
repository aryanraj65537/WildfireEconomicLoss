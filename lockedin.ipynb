{
 "cells": [
  {
   "cell_type": "code",
   "execution_count": 8,
   "metadata": {},
   "outputs": [
    {
     "data": {
      "text/html": [
       "<p>To authorize access needed by Earth Engine, open the following\n",
       "        URL in a web browser and follow the instructions:</p>\n",
       "        <p><a href=https://code.earthengine.google.com/client-auth?scopes=https%3A//www.googleapis.com/auth/earthengine%20https%3A//www.googleapis.com/auth/devstorage.full_control&request_id=yBR6k6Vsb-eS7h8F2ou_NHqKd8nWfZZ3UyhZApbMrn0&tc=DCV_KG4QY2dTI1uzadO7NaDTAT0TG_HNI7FewLeqpJ4&cc=HNVXemFEvcTiBvAvGjVn4z19WR0AyBLe2WzHx9V-IrI>https://code.earthengine.google.com/client-auth?scopes=https%3A//www.googleapis.com/auth/earthengine%20https%3A//www.googleapis.com/auth/devstorage.full_control&request_id=yBR6k6Vsb-eS7h8F2ou_NHqKd8nWfZZ3UyhZApbMrn0&tc=DCV_KG4QY2dTI1uzadO7NaDTAT0TG_HNI7FewLeqpJ4&cc=HNVXemFEvcTiBvAvGjVn4z19WR0AyBLe2WzHx9V-IrI</a></p>\n",
       "        <p>The authorization workflow will generate a code, which you should paste in the box below.</p>\n",
       "        "
      ],
      "text/plain": [
       "<IPython.core.display.HTML object>"
      ]
     },
     "metadata": {},
     "output_type": "display_data"
    },
    {
     "name": "stdout",
     "output_type": "stream",
     "text": [
      "\n",
      "Successfully saved authorization token.\n"
     ]
    }
   ],
   "source": [
    "import ee\n",
    "ee.Authenticate()\n",
    "ee.Initialize()"
   ]
  },
  {
   "cell_type": "code",
   "execution_count": 9,
   "metadata": {},
   "outputs": [],
   "source": [
    "def dataset_value(dataset, lon, lat):\n",
    "    point = ee.Geometry.Point([lon, lat])\n",
    "    if isinstance(dataset, ee.imagecollection.ImageCollection):\n",
    "        dataset = dataset.mean()\n",
    "    value = dataset.reduceRegion(\n",
    "        reducer=ee.Reducer.first(), \n",
    "        geometry=point, \n",
    "        scale=30\n",
    "    ).getInfo()\n",
    "    return value"
   ]
  },
  {
   "cell_type": "code",
   "execution_count": 10,
   "metadata": {},
   "outputs": [],
   "source": [
    "elevation = ee.Image(\"NASA/NASADEM_HGT/001\").select('elevation')\n",
    "temperature = ee.ImageCollection(\"MODIS/061/MOD11A1\").select('LST_Day_1km')\n",
    "biomass = ee.ImageCollection(\"WCMC/biomass_carbon_density/v1_0\").select('carbon_tonnes_per_ha')\n",
    "fires = ee.FeatureCollection(\"JRC/GWIS/GlobFire/v2/FinalPerimeters\")"
   ]
  },
  {
   "cell_type": "code",
   "execution_count": 21,
   "metadata": {},
   "outputs": [],
   "source": [
    "n=3\n",
    "fire_feature = ee.Feature(fires.toList(n).get(n-1))\n",
    "fire_bounds = fire_feature.geometry().bounds()\n",
    "buffer_distance = 1\n",
    "\n",
    "# Create a rectangle around the fire perimeter with a buffer\n",
    "rectangle = fire_bounds.buffer(buffer_distance).bounds()"
   ]
  },
  {
   "cell_type": "code",
   "execution_count": 5,
   "metadata": {},
   "outputs": [],
   "source": [
    "def generate_grid(corners, point_spacing):\n",
    "    coords = []\n",
    "    min_lon, min_lat = corners[0]\n",
    "    max_lon, max_lat = corners[1]\n",
    "\n",
    "    lon = min_lon\n",
    "    while lon < max_lon:\n",
    "        lat = min_lat\n",
    "        while lat < max_lat:\n",
    "            coords.append([lon, lat])\n",
    "            lat += point_spacing\n",
    "        lon += point_spacing\n",
    "    return coords\n"
   ]
  },
  {
   "cell_type": "code",
   "execution_count": 6,
   "metadata": {},
   "outputs": [],
   "source": [
    "# Define the spacing between points (in degrees)\n",
    "point_spacing = 0.001  # Example: approximately 111 meters at the equator\n",
    "\n",
    "# Extract the lower-left and upper-right corners of the rectangle\n",
    "rect_coords = rectangle.bounds().getInfo()['coordinates'][0]\n",
    "lower_left = rect_coords[0]  # Lower-left corner\n",
    "upper_right = rect_coords[2]  # Upper-right corner\n",
    "\n",
    "# Generate the grid\n",
    "grid_points = generate_grid([lower_left, upper_right], point_spacing)"
   ]
  },
  {
   "cell_type": "code",
   "execution_count": 18,
   "metadata": {},
   "outputs": [],
   "source": [
    "import numpy as np\n",
    "data = []\n",
    "for lon, lat in grid_points:\n",
    "    elev = dataset_value(elevation, lon, lat)\n",
    "    temp = dataset_value(temperature, lon, lat)\n",
    "    bio = dataset_value(biomass, lon, lat)\n",
    "    burned = fire_feature.geometry().contains(ee.Geometry.Point([lon, lat])).getInfo()\n",
    "    data.append([elev.get('elevation'), temp.get('LST_Day_1km'), bio.get('carbon_tonnes_per_ha'), burned])\n",
    "\n",
    "np_data = np.array(data)\n",
    "print(np_data)"
   ]
  },
  {
   "cell_type": "code",
   "execution_count": 20,
   "metadata": {},
   "outputs": [
    {
     "name": "stdout",
     "output_type": "stream",
     "text": [
      "Fire Centroid Coordinates: [-35.804761001213365, -9.410416676692531]\n"
     ]
    }
   ],
   "source": [
    "\n",
    "centroid = fire_feature.geometry().centroid()\n",
    "\n",
    "# Extract the coordinates of the centroid\n",
    "centroid_coords = centroid.coordinates().getInfo()\n",
    "\n",
    "# Print the coordinates\n",
    "print(\"Fire Centroid Coordinates:\", centroid_coords)"
   ]
  },
  {
   "cell_type": "code",
   "execution_count": 18,
   "metadata": {},
   "outputs": [
    {
     "name": "stdout",
     "output_type": "stream",
     "text": [
      "Fire ID: 9331845\n"
     ]
    }
   ],
   "source": [
    "\n",
    "fire_id = fire_feature.get('Id').getInfo()\n",
    "\n",
    "# Print the ID\n",
    "print(\"Fire ID:\", fire_id)"
   ]
  }
 ],
 "metadata": {
  "kernelspec": {
   "display_name": "Python 3",
   "language": "python",
   "name": "python3"
  },
  "language_info": {
   "codemirror_mode": {
    "name": "ipython",
    "version": 3
   },
   "file_extension": ".py",
   "mimetype": "text/x-python",
   "name": "python",
   "nbconvert_exporter": "python",
   "pygments_lexer": "ipython3",
   "version": "3.11.6"
  }
 },
 "nbformat": 4,
 "nbformat_minor": 2
}
