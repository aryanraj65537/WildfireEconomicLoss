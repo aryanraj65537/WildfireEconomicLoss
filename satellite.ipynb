{
 "cells": [
  {
   "cell_type": "code",
   "execution_count": 1,
   "metadata": {},
   "outputs": [
    {
     "data": {
      "text/html": [
       "<p>To authorize access needed by Earth Engine, open the following\n",
       "        URL in a web browser and follow the instructions:</p>\n",
       "        <p><a href=https://code.earthengine.google.com/client-auth?scopes=https%3A//www.googleapis.com/auth/earthengine%20https%3A//www.googleapis.com/auth/devstorage.full_control&request_id=d3snEUpN73Y7jbLzbSMwzlhuwnnMbHsTbiUhb091GIE&tc=ujkAFoyOxTzFL6e7FjSbqs01CxuQ-0BoTtcsMDzsAJs&cc=J1Rd-N_vIZ7CZHAJFxwZNej9AGavsG9_0yz-l8oOw3w>https://code.earthengine.google.com/client-auth?scopes=https%3A//www.googleapis.com/auth/earthengine%20https%3A//www.googleapis.com/auth/devstorage.full_control&request_id=d3snEUpN73Y7jbLzbSMwzlhuwnnMbHsTbiUhb091GIE&tc=ujkAFoyOxTzFL6e7FjSbqs01CxuQ-0BoTtcsMDzsAJs&cc=J1Rd-N_vIZ7CZHAJFxwZNej9AGavsG9_0yz-l8oOw3w</a></p>\n",
       "        <p>The authorization workflow will generate a code, which you should paste in the box below.</p>\n",
       "        "
      ],
      "text/plain": [
       "<IPython.core.display.HTML object>"
      ]
     },
     "metadata": {},
     "output_type": "display_data"
    },
    {
     "name": "stdout",
     "output_type": "stream",
     "text": [
      "\n",
      "Successfully saved authorization token.\n"
     ]
    }
   ],
   "source": [
    "import ee\n",
    "\n",
    "# Authenticate and initialize Earth Engine\n",
    "ee.Authenticate()\n",
    "ee.Initialize()\n",
    "# Generate a URL for the image thumbnail\n"
   ]
  },
  {
   "cell_type": "code",
   "execution_count": 64,
   "metadata": {},
   "outputs": [
    {
     "data": {
      "text/html": [
       "\n",
       "            <style>\n",
       "                .geemap-dark {\n",
       "                    --jp-widgets-color: white;\n",
       "                    --jp-widgets-label-color: white;\n",
       "                    --jp-ui-font-color1: white;\n",
       "                    --jp-layout-color2: #454545;\n",
       "                    background-color: #383838;\n",
       "                }\n",
       "                    \n",
       "                .geemap-dark .jupyter-button {\n",
       "                    --jp-layout-color3: #383838;\n",
       "                }\n",
       "                \n",
       "                .geemap-colab {\n",
       "                    background-color: var(--colab-primary-surface-color, white);\n",
       "                }\n",
       "                    \n",
       "                .geemap-colab .jupyter-button {\n",
       "                    --jp-layout-color3: var(--colab-primary-surface-color, white);\n",
       "                }\n",
       "            </style>\n",
       "            "
      ],
      "text/plain": [
       "<IPython.core.display.HTML object>"
      ]
     },
     "metadata": {},
     "output_type": "display_data"
    },
    {
     "name": "stdout",
     "output_type": "stream",
     "text": [
      "https://earthengine.googleapis.com/v1/projects/earthengine-legacy/thumbnails/9a618d8ed6fd520959629532e143a470-f0b661a9b8e3eccd66f60ed3a88cfb6a:getPixels\n"
     ]
    },
    {
     "data": {
      "text/html": [
       "<img src=\"https://earthengine.googleapis.com/v1/projects/earthengine-legacy/thumbnails/9a618d8ed6fd520959629532e143a470-f0b661a9b8e3eccd66f60ed3a88cfb6a:getPixels\"/>"
      ],
      "text/plain": [
       "<IPython.core.display.Image object>"
      ]
     },
     "execution_count": 64,
     "metadata": {},
     "output_type": "execute_result"
    }
   ],
   "source": [
    "from IPython.display import Image\n",
    "lst = ee.ImageCollection('MODIS/006/MOD11A1')\n",
    "# Initial date of interest (inclusive).\n",
    "i_date = '2017-01-01'\n",
    "\n",
    "# Final date of interest (exclusive).\n",
    "f_date = '2020-01-01'\n",
    "\n",
    "# Selection of appropriate bands and dates for LST.\n",
    "lst = lst.select('LST_Day_1km', 'QC_Day').filterDate(i_date, f_date)\n",
    "\n",
    "# Define the urban location of interest as a point near Lyon, France.\n",
    "u_lon = -115.4734\n",
    "u_lat = 33.6826155\n",
    "u_poi = ee.Geometry.Point(u_lon, u_lat)\n",
    "\n",
    "# Define the rural location of interest as a point away from the city.\n",
    "'''\n",
    "r_lon = 5.175964\n",
    "r_lat = 45.574064\n",
    "r_poi = ee.Geometry.Point(r_lon, r_lat)\n",
    "'''\n",
    "roi = u_poi.buffer(1e6)\n",
    "# Reduce the LST collection by mean.\n",
    "lst_img = lst.mean()\n",
    "\n",
    "# Adjust for scale factor.\n",
    "lst_img = lst_img.select('LST_Day_1km').multiply(0.02)\n",
    "\n",
    "# Convert Kelvin to Celsius.\n",
    "lst_img = lst_img.select('LST_Day_1km').add(-273.15)\n",
    "\n",
    "# Create a URL to the styled image for a region around France.\n",
    "url = lst_img.getThumbUrl({\n",
    "    'min': 10, 'max': 30, 'dimensions': 512, 'region': roi,\n",
    "    'palette': ['blue', 'yellow', 'orange', 'red']})\n",
    "print(url)\n",
    "\n",
    "# Display the thumbnail land surface temperature in France.\n",
    "Image(url=url)\n"
   ]
  },
  {
   "cell_type": "code",
   "execution_count": 65,
   "metadata": {},
   "outputs": [
    {
     "data": {
      "text/html": [
       "\n",
       "            <style>\n",
       "                .geemap-dark {\n",
       "                    --jp-widgets-color: white;\n",
       "                    --jp-widgets-label-color: white;\n",
       "                    --jp-ui-font-color1: white;\n",
       "                    --jp-layout-color2: #454545;\n",
       "                    background-color: #383838;\n",
       "                }\n",
       "                    \n",
       "                .geemap-dark .jupyter-button {\n",
       "                    --jp-layout-color3: #383838;\n",
       "                }\n",
       "                \n",
       "                .geemap-colab {\n",
       "                    background-color: var(--colab-primary-surface-color, white);\n",
       "                }\n",
       "                    \n",
       "                .geemap-colab .jupyter-button {\n",
       "                    --jp-layout-color3: var(--colab-primary-surface-color, white);\n",
       "                }\n",
       "            </style>\n",
       "            "
      ],
      "text/plain": [
       "<IPython.core.display.HTML object>"
      ]
     },
     "metadata": {},
     "output_type": "display_data"
    },
    {
     "name": "stdout",
     "output_type": "stream",
     "text": [
      "https://earthengine.googleapis.com/v1/projects/earthengine-legacy/thumbnails/62c030bc38dc1871ca9ed22acf9e7375-fc84827150e5079311f6ceea8247ed08:getPixels\n"
     ]
    },
    {
     "data": {
      "text/html": [
       "<img src=\"https://earthengine.googleapis.com/v1/projects/earthengine-legacy/thumbnails/62c030bc38dc1871ca9ed22acf9e7375-fc84827150e5079311f6ceea8247ed08:getPixels\"/>"
      ],
      "text/plain": [
       "<IPython.core.display.Image object>"
      ]
     },
     "execution_count": 65,
     "metadata": {},
     "output_type": "execute_result"
    }
   ],
   "source": [
    "image = ee.Image('WCMC/biomass_carbon_density/v1_0/2010')\n",
    "url = image.getThumbUrl({\n",
    "    'min': 1, 'max': 180, 'dimensions': 512,\n",
    "    'palette': ['d9f0a3', 'addd8e', '78c679', '41ab5d', '238443', '005a32']})\n",
    "print(url)\n",
    "Image(url=url)"
   ]
  },
  {
   "cell_type": "code",
   "execution_count": 66,
   "metadata": {},
   "outputs": [
    {
     "data": {
      "text/html": [
       "\n",
       "            <style>\n",
       "                .geemap-dark {\n",
       "                    --jp-widgets-color: white;\n",
       "                    --jp-widgets-label-color: white;\n",
       "                    --jp-ui-font-color1: white;\n",
       "                    --jp-layout-color2: #454545;\n",
       "                    background-color: #383838;\n",
       "                }\n",
       "                    \n",
       "                .geemap-dark .jupyter-button {\n",
       "                    --jp-layout-color3: #383838;\n",
       "                }\n",
       "                \n",
       "                .geemap-colab {\n",
       "                    background-color: var(--colab-primary-surface-color, white);\n",
       "                }\n",
       "                    \n",
       "                .geemap-colab .jupyter-button {\n",
       "                    --jp-layout-color3: var(--colab-primary-surface-color, white);\n",
       "                }\n",
       "            </style>\n",
       "            "
      ],
      "text/plain": [
       "<IPython.core.display.HTML object>"
      ]
     },
     "metadata": {},
     "output_type": "display_data"
    },
    {
     "name": "stdout",
     "output_type": "stream",
     "text": [
      "{'carbon_tonnes_per_ha': 205.25888061523438}\n"
     ]
    }
   ],
   "source": [
    "latitude = -2.44\n",
    "longitude = -53.6\n",
    "point = ee.Geometry.Point(longitude, latitude)\n",
    "value = image.reduceRegion(ee.Reducer.first(), point, 30)\n",
    "print(value.getInfo())"
   ]
  },
  {
   "cell_type": "code",
   "execution_count": 67,
   "metadata": {},
   "outputs": [
    {
     "data": {
      "text/html": [
       "\n",
       "            <style>\n",
       "                .geemap-dark {\n",
       "                    --jp-widgets-color: white;\n",
       "                    --jp-widgets-label-color: white;\n",
       "                    --jp-ui-font-color1: white;\n",
       "                    --jp-layout-color2: #454545;\n",
       "                    background-color: #383838;\n",
       "                }\n",
       "                    \n",
       "                .geemap-dark .jupyter-button {\n",
       "                    --jp-layout-color3: #383838;\n",
       "                }\n",
       "                \n",
       "                .geemap-colab {\n",
       "                    background-color: var(--colab-primary-surface-color, white);\n",
       "                }\n",
       "                    \n",
       "                .geemap-colab .jupyter-button {\n",
       "                    --jp-layout-color3: var(--colab-primary-surface-color, white);\n",
       "                }\n",
       "            </style>\n",
       "            "
      ],
      "text/plain": [
       "<IPython.core.display.HTML object>"
      ]
     },
     "metadata": {},
     "output_type": "display_data"
    },
    {
     "name": "stdout",
     "output_type": "stream",
     "text": [
      "https://earthengine.googleapis.com/v1/projects/earthengine-legacy/thumbnails/6e0ddcd54dde2e3f1609461441a7c471-8478202a33a9e8ac3b9ffefd38e09315:getPixels\n"
     ]
    },
    {
     "data": {
      "text/html": [
       "<img src=\"https://earthengine.googleapis.com/v1/projects/earthengine-legacy/thumbnails/6e0ddcd54dde2e3f1609461441a7c471-8478202a33a9e8ac3b9ffefd38e09315:getPixels\"/>"
      ],
      "text/plain": [
       "<IPython.core.display.Image object>"
      ]
     },
     "execution_count": 67,
     "metadata": {},
     "output_type": "execute_result"
    }
   ],
   "source": [
    "ndvi = ee.ImageCollection('MODIS/061/MOD13A2')\n",
    "# Initial date of interest (inclusive).\n",
    "i_date = '2018-01-01'\n",
    "\n",
    "# Final date of interest (exclusive).\n",
    "f_date = '2018-05-01'\n",
    "\n",
    "# Selection of appropriate bands and dates for NDVI.\n",
    "ndvi = ndvi.select('NDVI').filterDate(i_date, f_date)\n",
    "\n",
    "# Define the urban location of interest as a point near Lyon, France.\n",
    "u_lon = -115.4734\n",
    "u_lat = 33.6826\n",
    "u_poi = ee.Geometry.Point(u_lon, u_lat)\n",
    "\n",
    "# Define the rural location of interest as a point away from the city.\n",
    "'''\n",
    "r_lon = 5.175964\n",
    "r_lat = 45.574064\n",
    "r_poi = ee.Geometry.Point(r_lon, r_lat)\n",
    "'''\n",
    "\n",
    "roi = u_poi.buffer(1e6)\n",
    "\n",
    "# Reduce the LST collection by mean.\n",
    "ndvi_img = ndvi.mean()\n",
    "\n",
    "# Create a URL to the styled image for a region around California.\n",
    "url = ndvi_img.getThumbUrl({\n",
    "    'min': 0, 'max': 9000, 'dimensions': 512, 'region': roi,\n",
    "    'palette': ['ffffff', 'ce7e45', 'df923d', 'f1b555', 'fcd163', '99b718', '74a901',\n",
    "    '66a000', '529400', '3e8601', '207401', '056201', '004c00', '023b01',\n",
    "    '012e01', '011d01', '011301']})\n",
    "print(url)\n",
    "\n",
    "# Display the thumbnail land surface temperature in California.\n",
    "Image(url=url)\n"
   ]
  },
  {
   "cell_type": "code",
   "execution_count": 68,
   "metadata": {},
   "outputs": [
    {
     "data": {
      "text/html": [
       "\n",
       "            <style>\n",
       "                .geemap-dark {\n",
       "                    --jp-widgets-color: white;\n",
       "                    --jp-widgets-label-color: white;\n",
       "                    --jp-ui-font-color1: white;\n",
       "                    --jp-layout-color2: #454545;\n",
       "                    background-color: #383838;\n",
       "                }\n",
       "                    \n",
       "                .geemap-dark .jupyter-button {\n",
       "                    --jp-layout-color3: #383838;\n",
       "                }\n",
       "                \n",
       "                .geemap-colab {\n",
       "                    background-color: var(--colab-primary-surface-color, white);\n",
       "                }\n",
       "                    \n",
       "                .geemap-colab .jupyter-button {\n",
       "                    --jp-layout-color3: var(--colab-primary-surface-color, white);\n",
       "                }\n",
       "            </style>\n",
       "            "
      ],
      "text/plain": [
       "<IPython.core.display.HTML object>"
      ]
     },
     "metadata": {},
     "output_type": "display_data"
    },
    {
     "name": "stdout",
     "output_type": "stream",
     "text": [
      "Number of nodes: 1\n",
      "Number of edges: 0\n"
     ]
    }
   ],
   "source": [
    "import geemap\n",
    "import networkx as nx\n",
    "\n",
    "# Load an image from Earth Engine (e.g., a land cover image)\n",
    "image = ee.Image(\"USGS/GFSAD1000_V1\")\n",
    "\n",
    "# Create a geometry for the region of interest (ROI)\n",
    "roi = ee.Geometry.Polygon(\n",
    "    [[[-120, 35], [-120, 36], [-119, 36], [-119, 35]]]\n",
    ")\n",
    "\n",
    "# Clip the image to the ROI\n",
    "clipped_image = image.clip(roi)\n",
    "\n",
    "# Define the resolution (e.g., 100 meters per pixel)\n",
    "resolution = 100\n",
    "\n",
    "# Get the projection information\n",
    "projection = clipped_image.projection()\n",
    "\n",
    "# Create a grid of points with 1-hectare spacing\n",
    "grid = ee.FeatureCollection.randomPoints(roi, 1, 1, 42)\n",
    "\n",
    "# Convert the grid points to a list\n",
    "grid_list = grid.toList(grid.size())\n",
    "\n",
    "# Initialize a graph\n",
    "graph = nx.Graph()\n",
    "\n",
    "# Iterate through the grid points\n",
    "for i in range(grid.size().getInfo()):\n",
    "    point = ee.Feature(grid_list.get(i))\n",
    "    x, y = point.geometry().coordinates().getInfo()\n",
    "    \n",
    "    # Calculate adjacent nodes (assuming 8-connectivity)\n",
    "    adjacent_nodes = []\n",
    "    for dx in [-resolution, 0, resolution]:\n",
    "        for dy in [-resolution, 0, resolution]:\n",
    "            if dx == 0 and dy == 0:\n",
    "                continue\n",
    "            neighbor_x = x + dx\n",
    "            neighbor_y = y + dy\n",
    "            adjacent_nodes.append((neighbor_x, neighbor_y))\n",
    "    \n",
    "    # Add the current node and its adjacent nodes to the graph\n",
    "    graph.add_node((x, y))\n",
    "    for neighbor in adjacent_nodes:\n",
    "        if neighbor in graph.nodes():\n",
    "            graph.add_edge((x, y), neighbor)\n",
    "\n",
    "# Now, the 'graph' variable contains a NetworkX graph with nodes representing hectares\n",
    "# and edges connecting adjacent nodes.\n",
    "\n",
    "# You can perform various graph analysis tasks on 'graph' using NetworkX functions.\n",
    "# For example, you can calculate centrality, shortest paths, or visualize the graph.\n",
    "\n",
    "# Example: Calculate the number of nodes and edges in the graph\n",
    "num_nodes = len(graph.nodes())\n",
    "num_edges = len(graph.edges())\n",
    "print(f\"Number of nodes: {num_nodes}\")\n",
    "print(f\"Number of edges: {num_edges}\")\n"
   ]
  }
 ],
 "metadata": {
  "kernelspec": {
   "display_name": "Python 3",
   "language": "python",
   "name": "python3"
  },
  "language_info": {
   "codemirror_mode": {
    "name": "ipython",
    "version": 3
   },
   "file_extension": ".py",
   "mimetype": "text/x-python",
   "name": "python",
   "nbconvert_exporter": "python",
   "pygments_lexer": "ipython3",
   "version": "3.11.4"
  },
  "orig_nbformat": 4
 },
 "nbformat": 4,
 "nbformat_minor": 2
}
