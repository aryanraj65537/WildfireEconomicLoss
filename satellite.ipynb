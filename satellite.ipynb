{
 "cells": [
  {
   "cell_type": "code",
   "execution_count": 3,
   "metadata": {},
   "outputs": [
    {
     "data": {
      "text/html": [
       "<p>To authorize access needed by Earth Engine, open the following\n",
       "        URL in a web browser and follow the instructions:</p>\n",
       "        <p><a href=https://code.earthengine.google.com/client-auth?scopes=https%3A//www.googleapis.com/auth/earthengine%20https%3A//www.googleapis.com/auth/devstorage.full_control&request_id=DE4a7N-SugRGiK4-3L_lpr3rsMaYjka6L9KGk7kxInY&tc=aLRfli8I-ZpjfHIc500T8PpLS0yMPiqappCiTQDeDsw&cc=mv0CgXnGvO6_B-3xOBlMcwgojnjNptfFnksjGop3k2A>https://code.earthengine.google.com/client-auth?scopes=https%3A//www.googleapis.com/auth/earthengine%20https%3A//www.googleapis.com/auth/devstorage.full_control&request_id=DE4a7N-SugRGiK4-3L_lpr3rsMaYjka6L9KGk7kxInY&tc=aLRfli8I-ZpjfHIc500T8PpLS0yMPiqappCiTQDeDsw&cc=mv0CgXnGvO6_B-3xOBlMcwgojnjNptfFnksjGop3k2A</a></p>\n",
       "        <p>The authorization workflow will generate a code, which you should paste in the box below.</p>\n",
       "        "
      ],
      "text/plain": [
       "<IPython.core.display.HTML object>"
      ]
     },
     "metadata": {},
     "output_type": "display_data"
    },
    {
     "name": "stdout",
     "output_type": "stream",
     "text": [
      "\n",
      "Successfully saved authorization token.\n"
     ]
    },
    {
     "data": {
      "text/html": [
       "<img src=\"https://earthengine.googleapis.com/v1/projects/earthengine-legacy/thumbnails/7b1c992a9b1456651e2cfe86bead0540-72923bc6be74cd2a392ab14fa26f1e13:getPixels\"/>"
      ],
      "text/plain": [
       "<IPython.core.display.Image object>"
      ]
     },
     "execution_count": 3,
     "metadata": {},
     "output_type": "execute_result"
    }
   ],
   "source": [
    "import ee\n",
    "from IPython.display import Image\n",
    "\n",
    "# Authenticate and initialize Earth Engine\n",
    "ee.Authenticate()\n",
    "ee.Initialize()\n",
    "\n",
    "# Get the image\n",
    "image = ee.Image(\"NASA/NASADEM_HGT/001\")\n",
    "\n",
    "# Generate a URL for the image thumbnail\n",
    "thumbnail_url = image.getThumbUrl({\n",
    "    'dimensions': 400,  # Adjust the dimensions as needed\n",
    "    'format': 'png'  # You can also use 'jpg' or other formats\n",
    "})\n",
    "\n",
    "# Display the thumbnail using IPython.display\n",
    "Image(url=thumbnail_url)\n"
   ]
  }
 ],
 "metadata": {
  "kernelspec": {
   "display_name": "Python 3",
   "language": "python",
   "name": "python3"
  },
  "language_info": {
   "codemirror_mode": {
    "name": "ipython",
    "version": 3
   },
   "file_extension": ".py",
   "mimetype": "text/x-python",
   "name": "python",
   "nbconvert_exporter": "python",
   "pygments_lexer": "ipython3",
   "version": "3.11.4"
  },
  "orig_nbformat": 4
 },
 "nbformat": 4,
 "nbformat_minor": 2
}
