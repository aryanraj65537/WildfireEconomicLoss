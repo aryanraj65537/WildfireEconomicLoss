{
 "cells": [
  {
   "cell_type": "code",
   "execution_count": 1,
   "metadata": {},
   "outputs": [
    {
     "data": {
      "text/html": [
       "<p>To authorize access needed by Earth Engine, open the following\n",
       "        URL in a web browser and follow the instructions:</p>\n",
       "        <p><a href=https://code.earthengine.google.com/client-auth?scopes=https%3A//www.googleapis.com/auth/earthengine%20https%3A//www.googleapis.com/auth/devstorage.full_control&request_id=d3snEUpN73Y7jbLzbSMwzlhuwnnMbHsTbiUhb091GIE&tc=ujkAFoyOxTzFL6e7FjSbqs01CxuQ-0BoTtcsMDzsAJs&cc=J1Rd-N_vIZ7CZHAJFxwZNej9AGavsG9_0yz-l8oOw3w>https://code.earthengine.google.com/client-auth?scopes=https%3A//www.googleapis.com/auth/earthengine%20https%3A//www.googleapis.com/auth/devstorage.full_control&request_id=d3snEUpN73Y7jbLzbSMwzlhuwnnMbHsTbiUhb091GIE&tc=ujkAFoyOxTzFL6e7FjSbqs01CxuQ-0BoTtcsMDzsAJs&cc=J1Rd-N_vIZ7CZHAJFxwZNej9AGavsG9_0yz-l8oOw3w</a></p>\n",
       "        <p>The authorization workflow will generate a code, which you should paste in the box below.</p>\n",
       "        "
      ],
      "text/plain": [
       "<IPython.core.display.HTML object>"
      ]
     },
     "metadata": {},
     "output_type": "display_data"
    },
    {
     "name": "stdout",
     "output_type": "stream",
     "text": [
      "\n",
      "Successfully saved authorization token.\n"
     ]
    }
   ],
   "source": [
    "import ee\n",
    "\n",
    "# Authenticate and initialize Earth Engine\n",
    "ee.Authenticate()\n",
    "ee.Initialize()\n",
    "# Generate a URL for the image thumbnail\n"
   ]
  },
  {
   "cell_type": "code",
   "execution_count": 85,
   "metadata": {},
   "outputs": [
    {
     "data": {
      "text/html": [
       "\n",
       "            <style>\n",
       "                .geemap-dark {\n",
       "                    --jp-widgets-color: white;\n",
       "                    --jp-widgets-label-color: white;\n",
       "                    --jp-ui-font-color1: white;\n",
       "                    --jp-layout-color2: #454545;\n",
       "                    background-color: #383838;\n",
       "                }\n",
       "                    \n",
       "                .geemap-dark .jupyter-button {\n",
       "                    --jp-layout-color3: #383838;\n",
       "                }\n",
       "                \n",
       "                .geemap-colab {\n",
       "                    background-color: var(--colab-primary-surface-color, white);\n",
       "                }\n",
       "                    \n",
       "                .geemap-colab .jupyter-button {\n",
       "                    --jp-layout-color3: var(--colab-primary-surface-color, white);\n",
       "                }\n",
       "            </style>\n",
       "            "
      ],
      "text/plain": [
       "<IPython.core.display.HTML object>"
      ]
     },
     "metadata": {},
     "output_type": "display_data"
    }
   ],
   "source": [
    "import networkx as nx\n",
    "import matplotlib.pyplot as plt\n",
    "from IPython.display import Image\n",
    "import geemap\n",
    "import requests\n",
    "from PIL import Image\n",
    "import numpy as np"
   ]
  },
  {
   "cell_type": "code",
   "execution_count": 87,
   "metadata": {},
   "outputs": [
    {
     "data": {
      "text/html": [
       "\n",
       "            <style>\n",
       "                .geemap-dark {\n",
       "                    --jp-widgets-color: white;\n",
       "                    --jp-widgets-label-color: white;\n",
       "                    --jp-ui-font-color1: white;\n",
       "                    --jp-layout-color2: #454545;\n",
       "                    background-color: #383838;\n",
       "                }\n",
       "                    \n",
       "                .geemap-dark .jupyter-button {\n",
       "                    --jp-layout-color3: #383838;\n",
       "                }\n",
       "                \n",
       "                .geemap-colab {\n",
       "                    background-color: var(--colab-primary-surface-color, white);\n",
       "                }\n",
       "                    \n",
       "                .geemap-colab .jupyter-button {\n",
       "                    --jp-layout-color3: var(--colab-primary-surface-color, white);\n",
       "                }\n",
       "            </style>\n",
       "            "
      ],
      "text/plain": [
       "<IPython.core.display.HTML object>"
      ]
     },
     "metadata": {},
     "output_type": "display_data"
    },
    {
     "ename": "EEException",
     "evalue": "Must specify either one or three bands for PNG or JPEG encoding.",
     "output_type": "error",
     "traceback": [
      "\u001b[1;31m---------------------------------------------------------------------------\u001b[0m",
      "\u001b[1;31mHttpError\u001b[0m                                 Traceback (most recent call last)",
      "File \u001b[1;32mc:\\Users\\aryr1\\AppData\\Local\\Programs\\Python\\Python311\\Lib\\site-packages\\ee\\data.py:352\u001b[0m, in \u001b[0;36m_execute_cloud_call\u001b[1;34m(call, num_retries)\u001b[0m\n\u001b[0;32m    351\u001b[0m \u001b[39mtry\u001b[39;00m:\n\u001b[1;32m--> 352\u001b[0m   \u001b[39mreturn\u001b[39;00m call\u001b[39m.\u001b[39;49mexecute(num_retries\u001b[39m=\u001b[39;49mnum_retries)\n\u001b[0;32m    353\u001b[0m \u001b[39mexcept\u001b[39;00m googleapiclient\u001b[39m.\u001b[39merrors\u001b[39m.\u001b[39mHttpError \u001b[39mas\u001b[39;00m e:\n",
      "File \u001b[1;32mc:\\Users\\aryr1\\AppData\\Local\\Programs\\Python\\Python311\\Lib\\site-packages\\googleapiclient\\_helpers.py:130\u001b[0m, in \u001b[0;36mpositional.<locals>.positional_decorator.<locals>.positional_wrapper\u001b[1;34m(*args, **kwargs)\u001b[0m\n\u001b[0;32m    129\u001b[0m         logger\u001b[39m.\u001b[39mwarning(message)\n\u001b[1;32m--> 130\u001b[0m \u001b[39mreturn\u001b[39;00m wrapped(\u001b[39m*\u001b[39;49margs, \u001b[39m*\u001b[39;49m\u001b[39m*\u001b[39;49mkwargs)\n",
      "File \u001b[1;32mc:\\Users\\aryr1\\AppData\\Local\\Programs\\Python\\Python311\\Lib\\site-packages\\googleapiclient\\http.py:938\u001b[0m, in \u001b[0;36mHttpRequest.execute\u001b[1;34m(self, http, num_retries)\u001b[0m\n\u001b[0;32m    937\u001b[0m \u001b[39mif\u001b[39;00m resp\u001b[39m.\u001b[39mstatus \u001b[39m>\u001b[39m\u001b[39m=\u001b[39m \u001b[39m300\u001b[39m:\n\u001b[1;32m--> 938\u001b[0m     \u001b[39mraise\u001b[39;00m HttpError(resp, content, uri\u001b[39m=\u001b[39m\u001b[39mself\u001b[39m\u001b[39m.\u001b[39muri)\n\u001b[0;32m    939\u001b[0m \u001b[39mreturn\u001b[39;00m \u001b[39mself\u001b[39m\u001b[39m.\u001b[39mpostproc(resp, content)\n",
      "\u001b[1;31mHttpError\u001b[0m: <HttpError 400 when requesting https://earthengine.googleapis.com/v1/projects/earthengine-legacy/thumbnails?fields=name&alt=json returned \"Must specify either one or three bands for PNG or JPEG encoding.\". Details: \"Must specify either one or three bands for PNG or JPEG encoding.\">",
      "\nDuring handling of the above exception, another exception occurred:\n",
      "\u001b[1;31mEEException\u001b[0m                               Traceback (most recent call last)",
      "\u001b[1;32mc:\\Users\\aryr1\\dev\\WildfireEconomicLoss\\satellite.ipynb Cell 3\u001b[0m line \u001b[0;36m8\n\u001b[0;32m      <a href='vscode-notebook-cell:/c%3A/Users/aryr1/dev/WildfireEconomicLoss/satellite.ipynb#X23sZmlsZQ%3D%3D?line=4'>5</a>\u001b[0m scale \u001b[39m=\u001b[39m \u001b[39m30\u001b[39m  \u001b[39m# Resolution in meters\u001b[39;00m\n\u001b[0;32m      <a href='vscode-notebook-cell:/c%3A/Users/aryr1/dev/WildfireEconomicLoss/satellite.ipynb#X23sZmlsZQ%3D%3D?line=6'>7</a>\u001b[0m \u001b[39m# Get a thumbnail URL of the image\u001b[39;00m\n\u001b[1;32m----> <a href='vscode-notebook-cell:/c%3A/Users/aryr1/dev/WildfireEconomicLoss/satellite.ipynb#X23sZmlsZQ%3D%3D?line=7'>8</a>\u001b[0m thumbnail_url \u001b[39m=\u001b[39m image\u001b[39m.\u001b[39;49mgetThumbURL({\n\u001b[0;32m      <a href='vscode-notebook-cell:/c%3A/Users/aryr1/dev/WildfireEconomicLoss/satellite.ipynb#X23sZmlsZQ%3D%3D?line=8'>9</a>\u001b[0m     \u001b[39m'\u001b[39;49m\u001b[39mregion\u001b[39;49m\u001b[39m'\u001b[39;49m: roi,\n\u001b[0;32m     <a href='vscode-notebook-cell:/c%3A/Users/aryr1/dev/WildfireEconomicLoss/satellite.ipynb#X23sZmlsZQ%3D%3D?line=9'>10</a>\u001b[0m     \u001b[39m'\u001b[39;49m\u001b[39mscale\u001b[39;49m\u001b[39m'\u001b[39;49m: scale,\n\u001b[0;32m     <a href='vscode-notebook-cell:/c%3A/Users/aryr1/dev/WildfireEconomicLoss/satellite.ipynb#X23sZmlsZQ%3D%3D?line=10'>11</a>\u001b[0m })\n\u001b[0;32m     <a href='vscode-notebook-cell:/c%3A/Users/aryr1/dev/WildfireEconomicLoss/satellite.ipynb#X23sZmlsZQ%3D%3D?line=12'>13</a>\u001b[0m \u001b[39m# Download the thumbnail image\u001b[39;00m\n\u001b[0;32m     <a href='vscode-notebook-cell:/c%3A/Users/aryr1/dev/WildfireEconomicLoss/satellite.ipynb#X23sZmlsZQ%3D%3D?line=13'>14</a>\u001b[0m response \u001b[39m=\u001b[39m requests\u001b[39m.\u001b[39mget(thumbnail_url)\n",
      "File \u001b[1;32mc:\\Users\\aryr1\\AppData\\Local\\Programs\\Python\\Python311\\Lib\\site-packages\\ee\\image.py:526\u001b[0m, in \u001b[0;36mImage.getThumbURL\u001b[1;34m(self, params)\u001b[0m\n\u001b[0;32m    502\u001b[0m \u001b[39m\u001b[39m\u001b[39m\"\"\"Get a thumbnail URL for this image.\u001b[39;00m\n\u001b[0;32m    503\u001b[0m \n\u001b[0;32m    504\u001b[0m \u001b[39mArgs:\u001b[39;00m\n\u001b[1;32m   (...)\u001b[0m\n\u001b[0;32m    521\u001b[0m \u001b[39m  EEException: If the region parameter is not an array or GeoJSON object.\u001b[39;00m\n\u001b[0;32m    522\u001b[0m \u001b[39m\"\"\"\u001b[39;00m\n\u001b[0;32m    523\u001b[0m \u001b[39m# If the Cloud API is enabled, we can do cleaner handling of the parameters.\u001b[39;00m\n\u001b[0;32m    524\u001b[0m \u001b[39m# If it isn't enabled, we have to be bug-for-bug compatible with current\u001b[39;00m\n\u001b[0;32m    525\u001b[0m \u001b[39m# behaviour.\u001b[39;00m\n\u001b[1;32m--> 526\u001b[0m \u001b[39mreturn\u001b[39;00m data\u001b[39m.\u001b[39mmakeThumbUrl(\u001b[39mself\u001b[39;49m\u001b[39m.\u001b[39;49mgetThumbId(params))\n",
      "File \u001b[1;32mc:\\Users\\aryr1\\AppData\\Local\\Programs\\Python\\Python311\\Lib\\site-packages\\ee\\image.py:499\u001b[0m, in \u001b[0;36mImage.getThumbId\u001b[1;34m(self, params)\u001b[0m\n\u001b[0;32m    497\u001b[0m image, params \u001b[39m=\u001b[39m image\u001b[39m.\u001b[39m_apply_visualization(params)  \u001b[39m# pylint: disable=protected-access\u001b[39;00m\n\u001b[0;32m    498\u001b[0m params[\u001b[39m'\u001b[39m\u001b[39mimage\u001b[39m\u001b[39m'\u001b[39m] \u001b[39m=\u001b[39m image\n\u001b[1;32m--> 499\u001b[0m \u001b[39mreturn\u001b[39;00m data\u001b[39m.\u001b[39;49mgetThumbId(params)\n",
      "File \u001b[1;32mc:\\Users\\aryr1\\AppData\\Local\\Programs\\Python\\Python311\\Lib\\site-packages\\ee\\data.py:1091\u001b[0m, in \u001b[0;36mgetThumbId\u001b[1;34m(params, thumbType)\u001b[0m\n\u001b[0;32m   1087\u001b[0m   request[\u001b[39m'\u001b[39m\u001b[39mfilenamePrefix\u001b[39m\u001b[39m'\u001b[39m] \u001b[39m=\u001b[39m params\u001b[39m.\u001b[39mget(\u001b[39m'\u001b[39m\u001b[39mname\u001b[39m\u001b[39m'\u001b[39m)\n\u001b[0;32m   1088\u001b[0m   request[\u001b[39m'\u001b[39m\u001b[39mbandIds\u001b[39m\u001b[39m'\u001b[39m] \u001b[39m=\u001b[39m _cloud_api_utils\u001b[39m.\u001b[39mconvert_to_band_list(\n\u001b[0;32m   1089\u001b[0m       params\u001b[39m.\u001b[39mget(\u001b[39m'\u001b[39m\u001b[39mbands\u001b[39m\u001b[39m'\u001b[39m)\n\u001b[0;32m   1090\u001b[0m   )\n\u001b[1;32m-> 1091\u001b[0m   result \u001b[39m=\u001b[39m _execute_cloud_call(\n\u001b[0;32m   1092\u001b[0m       _get_cloud_projects()\n\u001b[0;32m   1093\u001b[0m       \u001b[39m.\u001b[39;49mthumbnails()\n\u001b[0;32m   1094\u001b[0m       \u001b[39m.\u001b[39;49mcreate(parent\u001b[39m=\u001b[39;49m_get_projects_path(), \u001b[39m*\u001b[39;49m\u001b[39m*\u001b[39;49mqueryParams)\n\u001b[0;32m   1095\u001b[0m   )\n\u001b[0;32m   1096\u001b[0m \u001b[39mreturn\u001b[39;00m {\u001b[39m'\u001b[39m\u001b[39mthumbid\u001b[39m\u001b[39m'\u001b[39m: result[\u001b[39m'\u001b[39m\u001b[39mname\u001b[39m\u001b[39m'\u001b[39m], \u001b[39m'\u001b[39m\u001b[39mtoken\u001b[39m\u001b[39m'\u001b[39m: \u001b[39m'\u001b[39m\u001b[39m'\u001b[39m}\n",
      "File \u001b[1;32mc:\\Users\\aryr1\\AppData\\Local\\Programs\\Python\\Python311\\Lib\\site-packages\\ee\\data.py:354\u001b[0m, in \u001b[0;36m_execute_cloud_call\u001b[1;34m(call, num_retries)\u001b[0m\n\u001b[0;32m    352\u001b[0m   \u001b[39mreturn\u001b[39;00m call\u001b[39m.\u001b[39mexecute(num_retries\u001b[39m=\u001b[39mnum_retries)\n\u001b[0;32m    353\u001b[0m \u001b[39mexcept\u001b[39;00m googleapiclient\u001b[39m.\u001b[39merrors\u001b[39m.\u001b[39mHttpError \u001b[39mas\u001b[39;00m e:\n\u001b[1;32m--> 354\u001b[0m   \u001b[39mraise\u001b[39;00m _translate_cloud_exception(e)\n",
      "\u001b[1;31mEEException\u001b[0m: Must specify either one or three bands for PNG or JPEG encoding."
     ]
    }
   ],
   "source": [
    "image = ee.Image('LANDSAT/LC08/C01/T1_TOA/LC08_044034_20140318')\n",
    "\n",
    "# Define a region of interest (ROI) and scale for the image\n",
    "roi = ee.Geometry.Rectangle([-122.44, 37.74, -122.34, 37.84])\n",
    "scale = 30  # Resolution in meters\n",
    "\n",
    "# Get a thumbnail URL of the image\n",
    "thumbnail_url = image.getThumbURL({\n",
    "    'region': roi,\n",
    "    'scale': scale,\n",
    "})\n",
    "\n",
    "# Download the thumbnail image\n",
    "response = requests.get(thumbnail_url)\n",
    "img = Image.open(io.BytesIO(response.content))\n",
    "\n",
    "# Convert the image to a NumPy array\n",
    "img_array = np.array(img)\n",
    "G = nx.Graph()\n",
    "\n",
    "# Iterate through the pixels and add nodes to the graph\n",
    "for i in range(img_array.shape[0]):\n",
    "    for j in range(img_array.shape[1]):\n",
    "        node_value = img_array[i, j]\n",
    "        G.add_node((i, j), value=node_value)\n",
    "\n",
    "# Define a function to compute the similarity between pixel values (you can customize this)\n",
    "def compute_similarity(node1, node2):\n",
    "    return np.linalg.norm(node1['value'] - node2['value'])\n",
    "\n",
    "# Add edges between nodes based on similarity (e.g., Euclidean distance)\n",
    "for node1 in G.nodes(data=True):\n",
    "    for node2 in G.nodes(data=True):\n",
    "        if node1 != node2:\n",
    "            similarity = compute_similarity(node1[1], node2[1])\n",
    "            if similarity < threshold:  # Define a threshold for edge creation\n",
    "                G.add_edge(node1[0], node2[0], weight=similarity)\n",
    "pos = {node: node for node in G.nodes()}\n",
    "nx.draw(G, pos=pos, with_labels=False, node_size=5)\n",
    "plt.show()"
   ]
  },
  {
   "cell_type": "code",
   "execution_count": 64,
   "metadata": {},
   "outputs": [
    {
     "data": {
      "text/html": [
       "\n",
       "            <style>\n",
       "                .geemap-dark {\n",
       "                    --jp-widgets-color: white;\n",
       "                    --jp-widgets-label-color: white;\n",
       "                    --jp-ui-font-color1: white;\n",
       "                    --jp-layout-color2: #454545;\n",
       "                    background-color: #383838;\n",
       "                }\n",
       "                    \n",
       "                .geemap-dark .jupyter-button {\n",
       "                    --jp-layout-color3: #383838;\n",
       "                }\n",
       "                \n",
       "                .geemap-colab {\n",
       "                    background-color: var(--colab-primary-surface-color, white);\n",
       "                }\n",
       "                    \n",
       "                .geemap-colab .jupyter-button {\n",
       "                    --jp-layout-color3: var(--colab-primary-surface-color, white);\n",
       "                }\n",
       "            </style>\n",
       "            "
      ],
      "text/plain": [
       "<IPython.core.display.HTML object>"
      ]
     },
     "metadata": {},
     "output_type": "display_data"
    },
    {
     "name": "stdout",
     "output_type": "stream",
     "text": [
      "https://earthengine.googleapis.com/v1/projects/earthengine-legacy/thumbnails/9a618d8ed6fd520959629532e143a470-f0b661a9b8e3eccd66f60ed3a88cfb6a:getPixels\n"
     ]
    },
    {
     "data": {
      "text/html": [
       "<img src=\"https://earthengine.googleapis.com/v1/projects/earthengine-legacy/thumbnails/9a618d8ed6fd520959629532e143a470-f0b661a9b8e3eccd66f60ed3a88cfb6a:getPixels\"/>"
      ],
      "text/plain": [
       "<IPython.core.display.Image object>"
      ]
     },
     "execution_count": 64,
     "metadata": {},
     "output_type": "execute_result"
    }
   ],
   "source": [
    "lst = ee.ImageCollection('MODIS/006/MOD11A1')\n",
    "# Initial date of interest (inclusive).\n",
    "i_date = '2017-01-01'\n",
    "\n",
    "# Final date of interest (exclusive).\n",
    "f_date = '2020-01-01'\n",
    "\n",
    "# Selection of appropriate bands and dates for LST.\n",
    "lst = lst.select('LST_Day_1km', 'QC_Day').filterDate(i_date, f_date)\n",
    "\n",
    "# Define the urban location of interest as a point near Lyon, France.\n",
    "u_lon = -115.4734\n",
    "u_lat = 33.6826155\n",
    "u_poi = ee.Geometry.Point(u_lon, u_lat)\n",
    "\n",
    "# Define the rural location of interest as a point away from the city.\n",
    "'''\n",
    "r_lon = 5.175964\n",
    "r_lat = 45.574064\n",
    "r_poi = ee.Geometry.Point(r_lon, r_lat)\n",
    "'''\n",
    "roi = u_poi.buffer(1e6)\n",
    "# Reduce the LST collection by mean.\n",
    "lst_img = lst.mean()\n",
    "\n",
    "# Adjust for scale factor.\n",
    "lst_img = lst_img.select('LST_Day_1km').multiply(0.02)\n",
    "\n",
    "# Convert Kelvin to Celsius.\n",
    "lst_img = lst_img.select('LST_Day_1km').add(-273.15)\n",
    "\n",
    "# Create a URL to the styled image for a region around France.\n",
    "url = lst_img.getThumbUrl({\n",
    "    'min': 10, 'max': 30, 'dimensions': 512, 'region': roi,\n",
    "    'palette': ['blue', 'yellow', 'orange', 'red']})\n",
    "print(url)\n",
    "\n",
    "# Display the thumbnail land surface temperature in France.\n",
    "Image(url=url)\n"
   ]
  },
  {
   "cell_type": "code",
   "execution_count": 74,
   "metadata": {},
   "outputs": [
    {
     "data": {
      "text/html": [
       "\n",
       "            <style>\n",
       "                .geemap-dark {\n",
       "                    --jp-widgets-color: white;\n",
       "                    --jp-widgets-label-color: white;\n",
       "                    --jp-ui-font-color1: white;\n",
       "                    --jp-layout-color2: #454545;\n",
       "                    background-color: #383838;\n",
       "                }\n",
       "                    \n",
       "                .geemap-dark .jupyter-button {\n",
       "                    --jp-layout-color3: #383838;\n",
       "                }\n",
       "                \n",
       "                .geemap-colab {\n",
       "                    background-color: var(--colab-primary-surface-color, white);\n",
       "                }\n",
       "                    \n",
       "                .geemap-colab .jupyter-button {\n",
       "                    --jp-layout-color3: var(--colab-primary-surface-color, white);\n",
       "                }\n",
       "            </style>\n",
       "            "
      ],
      "text/plain": [
       "<IPython.core.display.HTML object>"
      ]
     },
     "metadata": {},
     "output_type": "display_data"
    },
    {
     "name": "stdout",
     "output_type": "stream",
     "text": [
      "https://earthengine.googleapis.com/v1/projects/earthengine-legacy/thumbnails/62c030bc38dc1871ca9ed22acf9e7375-4980ea8e045f76b3fa86d61de6a42c8b:getPixels\n"
     ]
    },
    {
     "data": {
      "text/html": [
       "<img src=\"https://earthengine.googleapis.com/v1/projects/earthengine-legacy/thumbnails/62c030bc38dc1871ca9ed22acf9e7375-4980ea8e045f76b3fa86d61de6a42c8b:getPixels\"/>"
      ],
      "text/plain": [
       "<IPython.core.display.Image object>"
      ]
     },
     "execution_count": 74,
     "metadata": {},
     "output_type": "execute_result"
    }
   ],
   "source": [
    "biomass = ee.Image('WCMC/biomass_carbon_density/v1_0/2010')\n",
    "url = biomass.getThumbUrl({\n",
    "    'min': 1, 'max': 180, 'dimensions': 512,\n",
    "    'palette': ['d9f0a3', 'addd8e', '78c679', '41ab5d', '238443', '005a32']})\n",
    "print(url)\n",
    "Image(url=url)"
   ]
  },
  {
   "cell_type": "code",
   "execution_count": 97,
   "metadata": {},
   "outputs": [
    {
     "data": {
      "text/html": [
       "\n",
       "            <style>\n",
       "                .geemap-dark {\n",
       "                    --jp-widgets-color: white;\n",
       "                    --jp-widgets-label-color: white;\n",
       "                    --jp-ui-font-color1: white;\n",
       "                    --jp-layout-color2: #454545;\n",
       "                    background-color: #383838;\n",
       "                }\n",
       "                    \n",
       "                .geemap-dark .jupyter-button {\n",
       "                    --jp-layout-color3: #383838;\n",
       "                }\n",
       "                \n",
       "                .geemap-colab {\n",
       "                    background-color: var(--colab-primary-surface-color, white);\n",
       "                }\n",
       "                    \n",
       "                .geemap-colab .jupyter-button {\n",
       "                    --jp-layout-color3: var(--colab-primary-surface-color, white);\n",
       "                }\n",
       "            </style>\n",
       "            "
      ],
      "text/plain": [
       "<IPython.core.display.HTML object>"
      ]
     },
     "metadata": {},
     "output_type": "display_data"
    },
    {
     "name": "stdout",
     "output_type": "stream",
     "text": [
      "{'carbon_tonnes_per_ha': 23.51944923400879}\n"
     ]
    }
   ],
   "source": [
    "def biomass_val(lon, lat):\n",
    "    point = ee.Geometry.Point(lon, lat)\n",
    "    value = biomass.reduceRegion(ee.Reducer.first(), point, 1)\n",
    "    return value.getInfo()\n",
    "print(biomass_val(-100,34))"
   ]
  },
  {
   "cell_type": "code",
   "execution_count": 67,
   "metadata": {},
   "outputs": [
    {
     "data": {
      "text/html": [
       "\n",
       "            <style>\n",
       "                .geemap-dark {\n",
       "                    --jp-widgets-color: white;\n",
       "                    --jp-widgets-label-color: white;\n",
       "                    --jp-ui-font-color1: white;\n",
       "                    --jp-layout-color2: #454545;\n",
       "                    background-color: #383838;\n",
       "                }\n",
       "                    \n",
       "                .geemap-dark .jupyter-button {\n",
       "                    --jp-layout-color3: #383838;\n",
       "                }\n",
       "                \n",
       "                .geemap-colab {\n",
       "                    background-color: var(--colab-primary-surface-color, white);\n",
       "                }\n",
       "                    \n",
       "                .geemap-colab .jupyter-button {\n",
       "                    --jp-layout-color3: var(--colab-primary-surface-color, white);\n",
       "                }\n",
       "            </style>\n",
       "            "
      ],
      "text/plain": [
       "<IPython.core.display.HTML object>"
      ]
     },
     "metadata": {},
     "output_type": "display_data"
    },
    {
     "name": "stdout",
     "output_type": "stream",
     "text": [
      "https://earthengine.googleapis.com/v1/projects/earthengine-legacy/thumbnails/6e0ddcd54dde2e3f1609461441a7c471-8478202a33a9e8ac3b9ffefd38e09315:getPixels\n"
     ]
    },
    {
     "data": {
      "text/html": [
       "<img src=\"https://earthengine.googleapis.com/v1/projects/earthengine-legacy/thumbnails/6e0ddcd54dde2e3f1609461441a7c471-8478202a33a9e8ac3b9ffefd38e09315:getPixels\"/>"
      ],
      "text/plain": [
       "<IPython.core.display.Image object>"
      ]
     },
     "execution_count": 67,
     "metadata": {},
     "output_type": "execute_result"
    }
   ],
   "source": [
    "ndvi = ee.ImageCollection('MODIS/061/MOD13A2')\n",
    "# Initial date of interest (inclusive).\n",
    "i_date = '2018-01-01'\n",
    "\n",
    "# Final date of interest (exclusive).\n",
    "f_date = '2018-05-01'\n",
    "\n",
    "# Selection of appropriate bands and dates for NDVI.\n",
    "ndvi = ndvi.select('NDVI').filterDate(i_date, f_date)\n",
    "\n",
    "# Define the urban location of interest as a point near Lyon, France.\n",
    "u_lon = -115.4734\n",
    "u_lat = 33.6826\n",
    "u_poi = ee.Geometry.Point(u_lon, u_lat)\n",
    "\n",
    "# Define the rural location of interest as a point away from the city.\n",
    "'''\n",
    "r_lon = 5.175964\n",
    "r_lat = 45.574064\n",
    "r_poi = ee.Geometry.Point(r_lon, r_lat)\n",
    "'''\n",
    "\n",
    "roi = u_poi.buffer(1e6)\n",
    "\n",
    "# Reduce the LST collection by mean.\n",
    "ndvi_img = ndvi.mean()\n",
    "\n",
    "# Create a URL to the styled image for a region around California.\n",
    "url = ndvi_img.getThumbUrl({\n",
    "    'min': 0, 'max': 9000, 'dimensions': 512, 'region': roi,\n",
    "    'palette': ['ffffff', 'ce7e45', 'df923d', 'f1b555', 'fcd163', '99b718', '74a901',\n",
    "    '66a000', '529400', '3e8601', '207401', '056201', '004c00', '023b01',\n",
    "    '012e01', '011d01', '011301']})\n",
    "print(url)\n",
    "\n",
    "# Display the thumbnail land surface temperature in California.\n",
    "Image(url=url)\n"
   ]
  },
  {
   "cell_type": "code",
   "execution_count": 69,
   "metadata": {},
   "outputs": [
    {
     "data": {
      "text/html": [
       "\n",
       "            <style>\n",
       "                .geemap-dark {\n",
       "                    --jp-widgets-color: white;\n",
       "                    --jp-widgets-label-color: white;\n",
       "                    --jp-ui-font-color1: white;\n",
       "                    --jp-layout-color2: #454545;\n",
       "                    background-color: #383838;\n",
       "                }\n",
       "                    \n",
       "                .geemap-dark .jupyter-button {\n",
       "                    --jp-layout-color3: #383838;\n",
       "                }\n",
       "                \n",
       "                .geemap-colab {\n",
       "                    background-color: var(--colab-primary-surface-color, white);\n",
       "                }\n",
       "                    \n",
       "                .geemap-colab .jupyter-button {\n",
       "                    --jp-layout-color3: var(--colab-primary-surface-color, white);\n",
       "                }\n",
       "            </style>\n",
       "            "
      ],
      "text/plain": [
       "<IPython.core.display.HTML object>"
      ]
     },
     "metadata": {},
     "output_type": "display_data"
    },
    {
     "name": "stdout",
     "output_type": "stream",
     "text": [
      "Number of nodes: [(-119.91574732920664, 35.98122700796177)]\n",
      "Number of edges: []\n"
     ]
    }
   ],
   "source": [
    "# Load an image from Earth Engine (e.g., a land cover image)\n",
    "image = ee.Image(\"USGS/GFSAD1000_V1\")\n",
    "\n",
    "# Create a geometry for the region of interest (ROI)\n",
    "roi = ee.Geometry.Polygon(\n",
    "    [[[-120, 35], [-120, 36], [-119, 36], [-119, 35]]]\n",
    ")\n",
    "\n",
    "# Clip the image to the ROI\n",
    "clipped_image = image.clip(roi)\n",
    "\n",
    "# Define the resolution (e.g., 100 meters per pixel)\n",
    "resolution = 100\n",
    "\n",
    "# Get the projection information\n",
    "projection = clipped_image.projection()\n",
    "\n",
    "# Create a grid of points with 1-hectare spacing\n",
    "grid = ee.FeatureCollection.randomPoints(roi, 1, 1, 42)\n",
    "\n",
    "# Convert the grid points to a list\n",
    "grid_list = grid.toList(grid.size())\n",
    "\n",
    "# Initialize a graph\n",
    "graph = nx.Graph()\n",
    "\n",
    "# Iterate through the grid points\n",
    "for i in range(grid.size().getInfo()):\n",
    "    point = ee.Feature(grid_list.get(i))\n",
    "    x, y = point.geometry().coordinates().getInfo()\n",
    "    \n",
    "    # Calculate adjacent nodes (assuming 8-connectivity)\n",
    "    adjacent_nodes = []\n",
    "    for dx in [-resolution, 0, resolution]:\n",
    "        for dy in [-resolution, 0, resolution]:\n",
    "            if dx == 0 and dy == 0:\n",
    "                continue\n",
    "            neighbor_x = x + dx\n",
    "            neighbor_y = y + dy\n",
    "            adjacent_nodes.append((neighbor_x, neighbor_y))\n",
    "    \n",
    "    # Add the current node and its adjacent nodes to the graph\n",
    "    graph.add_node((x, y))\n",
    "    for neighbor in adjacent_nodes:\n",
    "        if neighbor in graph.nodes():\n",
    "            graph.add_edge((x, y), neighbor)\n",
    "\n",
    "# Now, the 'graph' variable contains a NetworkX graph with nodes representing hectares\n",
    "# and edges connecting adjacent nodes.\n",
    "\n",
    "# You can perform various graph analysis tasks on 'graph' using NetworkX functions.\n",
    "# For example, you can calculate centrality, shortest paths, or visualize the graph.\n",
    "\n",
    "# Example: Calculate the number of nodes and edges in the graph\n",
    "num_nodes = len(graph.nodes())\n",
    "num_edges = len(graph.edges())\n",
    "print(f\"Number of nodes: {graph.nodes()}\")\n",
    "print(f\"Number of edges: {graph.edges()}\")\n"
   ]
  }
 ],
 "metadata": {
  "kernelspec": {
   "display_name": "Python 3",
   "language": "python",
   "name": "python3"
  },
  "language_info": {
   "codemirror_mode": {
    "name": "ipython",
    "version": 3
   },
   "file_extension": ".py",
   "mimetype": "text/x-python",
   "name": "python",
   "nbconvert_exporter": "python",
   "pygments_lexer": "ipython3",
   "version": "3.11.4"
  },
  "orig_nbformat": 4
 },
 "nbformat": 4,
 "nbformat_minor": 2
}
