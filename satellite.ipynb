{
 "cells": [
  {
   "cell_type": "code",
   "execution_count": 1,
   "metadata": {},
   "outputs": [],
   "source": [
    "import matplotlib.pyplot as plt\n",
    "from IPython.display import Image\n",
    "import geemap\n",
    "import numpy as np\n",
    "import ee\n",
    "import datetime"
   ]
  },
  {
   "cell_type": "code",
   "execution_count": 2,
   "metadata": {},
   "outputs": [
    {
     "data": {
      "text/html": [
       "\n",
       "            <style>\n",
       "                .geemap-dark {\n",
       "                    --jp-widgets-color: white;\n",
       "                    --jp-widgets-label-color: white;\n",
       "                    --jp-ui-font-color1: white;\n",
       "                    --jp-layout-color2: #454545;\n",
       "                    background-color: #383838;\n",
       "                }\n",
       "                    \n",
       "                .geemap-dark .jupyter-button {\n",
       "                    --jp-layout-color3: #383838;\n",
       "                }\n",
       "                \n",
       "                .geemap-colab {\n",
       "                    background-color: var(--colab-primary-surface-color, white);\n",
       "                }\n",
       "                    \n",
       "                .geemap-colab .jupyter-button {\n",
       "                    --jp-layout-color3: var(--colab-primary-surface-color, white);\n",
       "                }\n",
       "            </style>\n",
       "            "
      ],
      "text/plain": [
       "<IPython.core.display.HTML object>"
      ]
     },
     "metadata": {},
     "output_type": "display_data"
    },
    {
     "data": {
      "text/html": [
       "<p>To authorize access needed by Earth Engine, open the following\n",
       "        URL in a web browser and follow the instructions:</p>\n",
       "        <p><a href=https://code.earthengine.google.com/client-auth?scopes=https%3A//www.googleapis.com/auth/earthengine%20https%3A//www.googleapis.com/auth/devstorage.full_control&request_id=YZnG90ao_saKAMSlZ0NPIwFHWshr_rMcgeSTei3_y_U&tc=_AkhBbTztqP39jUHgJ9vM8iLVzyDXoqDnhvGHLG2TJU&cc=4yyquQQG0cH6MemD-6s_bG6XlcUJp_vW0RCWlNRQ_-M>https://code.earthengine.google.com/client-auth?scopes=https%3A//www.googleapis.com/auth/earthengine%20https%3A//www.googleapis.com/auth/devstorage.full_control&request_id=YZnG90ao_saKAMSlZ0NPIwFHWshr_rMcgeSTei3_y_U&tc=_AkhBbTztqP39jUHgJ9vM8iLVzyDXoqDnhvGHLG2TJU&cc=4yyquQQG0cH6MemD-6s_bG6XlcUJp_vW0RCWlNRQ_-M</a></p>\n",
       "        <p>The authorization workflow will generate a code, which you should paste in the box below.</p>\n",
       "        "
      ],
      "text/plain": [
       "<IPython.core.display.HTML object>"
      ]
     },
     "metadata": {},
     "output_type": "display_data"
    },
    {
     "ename": "KeyError",
     "evalue": "'client_id'",
     "output_type": "error",
     "traceback": [
      "\u001b[1;31m---------------------------------------------------------------------------\u001b[0m",
      "\u001b[1;31mKeyError\u001b[0m                                  Traceback (most recent call last)",
      "\u001b[1;32mc:\\Users\\aryr1\\dev\\WildfireEconomicLoss\\satellite.ipynb Cell 2\u001b[0m line \u001b[0;36m1\n\u001b[1;32m----> <a href='vscode-notebook-cell:/c%3A/Users/aryr1/dev/WildfireEconomicLoss/satellite.ipynb#W1sZmlsZQ%3D%3D?line=0'>1</a>\u001b[0m ee\u001b[39m.\u001b[39;49mAuthenticate()\n\u001b[0;32m      <a href='vscode-notebook-cell:/c%3A/Users/aryr1/dev/WildfireEconomicLoss/satellite.ipynb#W1sZmlsZQ%3D%3D?line=1'>2</a>\u001b[0m ee\u001b[39m.\u001b[39mInitialize()\n",
      "File \u001b[1;32mc:\\Users\\aryr1\\AppData\\Local\\Programs\\Python\\Python311\\Lib\\site-packages\\ee\\__init__.py:103\u001b[0m, in \u001b[0;36mAuthenticate\u001b[1;34m(authorization_code, quiet, code_verifier, auth_mode, scopes)\u001b[0m\n\u001b[0;32m     77\u001b[0m \u001b[39mdef\u001b[39;00m \u001b[39mAuthenticate\u001b[39m(\n\u001b[0;32m     78\u001b[0m     authorization_code\u001b[39m=\u001b[39m\u001b[39mNone\u001b[39;00m,\n\u001b[0;32m     79\u001b[0m     quiet\u001b[39m=\u001b[39m\u001b[39mNone\u001b[39;00m,\n\u001b[0;32m     80\u001b[0m     code_verifier\u001b[39m=\u001b[39m\u001b[39mNone\u001b[39;00m,\n\u001b[0;32m     81\u001b[0m     auth_mode\u001b[39m=\u001b[39m\u001b[39mNone\u001b[39;00m,\n\u001b[0;32m     82\u001b[0m     scopes\u001b[39m=\u001b[39m\u001b[39mNone\u001b[39;00m):\n\u001b[0;32m     83\u001b[0m \u001b[39m  \u001b[39m\u001b[39m\"\"\"Prompts the user to authorize access to Earth Engine via OAuth2.\u001b[39;00m\n\u001b[0;32m     84\u001b[0m \n\u001b[0;32m     85\u001b[0m \u001b[39m  Args:\u001b[39;00m\n\u001b[1;32m   (...)\u001b[0m\n\u001b[0;32m    101\u001b[0m \u001b[39m     (auth_url, code_verifier) when called with quiet='init_only'\u001b[39;00m\n\u001b[0;32m    102\u001b[0m \u001b[39m  \"\"\"\u001b[39;00m\n\u001b[1;32m--> 103\u001b[0m   \u001b[39mreturn\u001b[39;00m oauth\u001b[39m.\u001b[39;49mauthenticate(authorization_code, quiet, code_verifier, auth_mode,\n\u001b[0;32m    104\u001b[0m                             scopes)\n",
      "File \u001b[1;32mc:\\Users\\aryr1\\AppData\\Local\\Programs\\Python\\Python311\\Lib\\site-packages\\ee\\oauth.py:430\u001b[0m, in \u001b[0;36mauthenticate\u001b[1;34m(cli_authorization_code, quiet, cli_code_verifier, auth_mode, scopes)\u001b[0m\n\u001b[0;32m    427\u001b[0m \u001b[39mif\u001b[39;00m flow\u001b[39m.\u001b[39mdisplay_instructions(quiet):\n\u001b[0;32m    428\u001b[0m   _open_new_browser(flow\u001b[39m.\u001b[39mauth_url)\n\u001b[1;32m--> 430\u001b[0m flow\u001b[39m.\u001b[39;49msave_code()\n",
      "File \u001b[1;32mc:\\Users\\aryr1\\AppData\\Local\\Programs\\Python\\Python311\\Lib\\site-packages\\ee\\oauth.py:479\u001b[0m, in \u001b[0;36mFlow.save_code\u001b[1;34m(self, code)\u001b[0m\n\u001b[0;32m    477\u001b[0m   redirect_uri \u001b[39m=\u001b[39m \u001b[39mself\u001b[39m\u001b[39m.\u001b[39mserver\u001b[39m.\u001b[39murl\n\u001b[0;32m    478\u001b[0m   code \u001b[39m=\u001b[39m \u001b[39mself\u001b[39m\u001b[39m.\u001b[39mserver\u001b[39m.\u001b[39mfetch_code()  \u001b[39m# Waits for oauth callback\u001b[39;00m\n\u001b[1;32m--> 479\u001b[0m _obtain_and_write_token(code, \u001b[39mself\u001b[39;49m\u001b[39m.\u001b[39;49mcode_verifier, \u001b[39mself\u001b[39;49m\u001b[39m.\u001b[39;49mscopes, redirect_uri)\n",
      "File \u001b[1;32mc:\\Users\\aryr1\\AppData\\Local\\Programs\\Python\\Python311\\Lib\\site-packages\\ee\\oauth.py:197\u001b[0m, in \u001b[0;36m_obtain_and_write_token\u001b[1;34m(auth_code, code_verifier, scopes, redirect_uri)\u001b[0m\n\u001b[0;32m    194\u001b[0m   fetch_client \u001b[39m=\u001b[39m urllib\u001b[39m.\u001b[39mrequest\u001b[39m.\u001b[39mRequest(FETCH_URL, data\u001b[39m=\u001b[39mdata, headers\u001b[39m=\u001b[39mheaders)\n\u001b[0;32m    195\u001b[0m   fetched_info \u001b[39m=\u001b[39m json\u001b[39m.\u001b[39mloads(\n\u001b[0;32m    196\u001b[0m       urllib\u001b[39m.\u001b[39mrequest\u001b[39m.\u001b[39murlopen(fetch_client)\u001b[39m.\u001b[39mread()\u001b[39m.\u001b[39mdecode())\n\u001b[1;32m--> 197\u001b[0m   client_info \u001b[39m=\u001b[39m {k: fetched_info[k] \u001b[39mfor\u001b[39;49;00m k \u001b[39min\u001b[39;49;00m [\u001b[39m'\u001b[39;49m\u001b[39mclient_id\u001b[39;49m\u001b[39m'\u001b[39;49m, \u001b[39m'\u001b[39;49m\u001b[39mclient_secret\u001b[39;49m\u001b[39m'\u001b[39;49m]}\n\u001b[0;32m    198\u001b[0m   scopes \u001b[39m=\u001b[39m fetched_info\u001b[39m.\u001b[39mget(\u001b[39m'\u001b[39m\u001b[39mscopes\u001b[39m\u001b[39m'\u001b[39m) \u001b[39mor\u001b[39;00m scopes\n\u001b[0;32m    199\u001b[0m token \u001b[39m=\u001b[39m request_token(auth_code\u001b[39m.\u001b[39mstrip(), code_verifier, \u001b[39m*\u001b[39m\u001b[39m*\u001b[39mclient_info)\n",
      "File \u001b[1;32mc:\\Users\\aryr1\\AppData\\Local\\Programs\\Python\\Python311\\Lib\\site-packages\\ee\\oauth.py:197\u001b[0m, in \u001b[0;36m<dictcomp>\u001b[1;34m(.0)\u001b[0m\n\u001b[0;32m    194\u001b[0m   fetch_client \u001b[39m=\u001b[39m urllib\u001b[39m.\u001b[39mrequest\u001b[39m.\u001b[39mRequest(FETCH_URL, data\u001b[39m=\u001b[39mdata, headers\u001b[39m=\u001b[39mheaders)\n\u001b[0;32m    195\u001b[0m   fetched_info \u001b[39m=\u001b[39m json\u001b[39m.\u001b[39mloads(\n\u001b[0;32m    196\u001b[0m       urllib\u001b[39m.\u001b[39mrequest\u001b[39m.\u001b[39murlopen(fetch_client)\u001b[39m.\u001b[39mread()\u001b[39m.\u001b[39mdecode())\n\u001b[1;32m--> 197\u001b[0m   client_info \u001b[39m=\u001b[39m {k: fetched_info[k] \u001b[39mfor\u001b[39;00m k \u001b[39min\u001b[39;00m [\u001b[39m'\u001b[39m\u001b[39mclient_id\u001b[39m\u001b[39m'\u001b[39m, \u001b[39m'\u001b[39m\u001b[39mclient_secret\u001b[39m\u001b[39m'\u001b[39m]}\n\u001b[0;32m    198\u001b[0m   scopes \u001b[39m=\u001b[39m fetched_info\u001b[39m.\u001b[39mget(\u001b[39m'\u001b[39m\u001b[39mscopes\u001b[39m\u001b[39m'\u001b[39m) \u001b[39mor\u001b[39;00m scopes\n\u001b[0;32m    199\u001b[0m token \u001b[39m=\u001b[39m request_token(auth_code\u001b[39m.\u001b[39mstrip(), code_verifier, \u001b[39m*\u001b[39m\u001b[39m*\u001b[39mclient_info)\n",
      "\u001b[1;31mKeyError\u001b[0m: 'client_id'"
     ]
    }
   ],
   "source": [
    "ee.Authenticate()\n",
    "ee.Initialize()"
   ]
  },
  {
   "cell_type": "code",
   "execution_count": 5,
   "metadata": {},
   "outputs": [
    {
     "data": {
      "text/html": [
       "\n",
       "            <style>\n",
       "                .geemap-dark {\n",
       "                    --jp-widgets-color: white;\n",
       "                    --jp-widgets-label-color: white;\n",
       "                    --jp-ui-font-color1: white;\n",
       "                    --jp-layout-color2: #454545;\n",
       "                    background-color: #383838;\n",
       "                }\n",
       "                    \n",
       "                .geemap-dark .jupyter-button {\n",
       "                    --jp-layout-color3: #383838;\n",
       "                }\n",
       "                \n",
       "                .geemap-colab {\n",
       "                    background-color: var(--colab-primary-surface-color, white);\n",
       "                }\n",
       "                    \n",
       "                .geemap-colab .jupyter-button {\n",
       "                    --jp-layout-color3: var(--colab-primary-surface-color, white);\n",
       "                }\n",
       "            </style>\n",
       "            "
      ],
      "text/plain": [
       "<IPython.core.display.HTML object>"
      ]
     },
     "metadata": {},
     "output_type": "display_data"
    }
   ],
   "source": [
    "wildfire_lat = 39.819\n",
    "wildfire_lon = -121.419"
   ]
  },
  {
   "cell_type": "code",
   "execution_count": 8,
   "metadata": {},
   "outputs": [
    {
     "data": {
      "text/html": [
       "\n",
       "            <style>\n",
       "                .geemap-dark {\n",
       "                    --jp-widgets-color: white;\n",
       "                    --jp-widgets-label-color: white;\n",
       "                    --jp-ui-font-color1: white;\n",
       "                    --jp-layout-color2: #454545;\n",
       "                    background-color: #383838;\n",
       "                }\n",
       "                    \n",
       "                .geemap-dark .jupyter-button {\n",
       "                    --jp-layout-color3: #383838;\n",
       "                }\n",
       "                \n",
       "                .geemap-colab {\n",
       "                    background-color: var(--colab-primary-surface-color, white);\n",
       "                }\n",
       "                    \n",
       "                .geemap-colab .jupyter-button {\n",
       "                    --jp-layout-color3: var(--colab-primary-surface-color, white);\n",
       "                }\n",
       "            </style>\n",
       "            "
      ],
      "text/plain": [
       "<IPython.core.display.HTML object>"
      ]
     },
     "metadata": {},
     "output_type": "display_data"
    }
   ],
   "source": [
    "image_elevation = ee.Image(\"NASA/NASADEM_HGT/001\").select('elevation')\n",
    "params_elevation = {'min': 0, 'max': 2000}\n",
    "\n",
    "image_temperature = ee.ImageCollection(\"MODIS/061/MOD11A1\").select('LST_Day_1km')\n",
    "params_temperature = {'min': 13000, 'max': 16500,'palette': ['040274', '040281', '0502a3', '0502b8', '0502ce', '0502e6', '0602ff', '235cb1', '307ef3', '269db1', '30c8e2', '32d3ef', '3be285', '3ff38f', '86e26f', '3ae237', 'b5e22e', 'd6e21f', 'fff705', 'ffd611', 'ffb613', 'ff8b13', 'ff6e08', 'ff500d', 'ff0000', 'de0101', 'c21301', 'a71001', '911003']}\n",
    "\n",
    "image_biomass = ee.ImageCollection(\"WCMC/biomass_carbon_density/v1_0\").select('carbon_tonnes_per_ha')\n",
    "params_biomass = {'min': 1, 'max': 180, 'palette': ['d9f0a3', 'addd8e', '78c679', '41ab5d', '238443', '005a32']}"
   ]
  },
  {
   "cell_type": "code",
   "execution_count": null,
   "metadata": {},
   "outputs": [],
   "source": [
    "Map = geemap.Map()\n",
    "Map.set_center(wildfire_lon, wildfire_lat, 8)\n",
    "\n",
    "Map.add_layer(image_elevation, params_elevation, 'elevation')\n",
    "\n",
    "Map.add_layer(image_temperature, params_temperature, 'temperature')\n",
    "\n",
    "Map.add_layer(image_biomass, params_biomass, 'biomass')\n",
    "\n",
    "Map"
   ]
  },
  {
   "cell_type": "code",
   "execution_count": null,
   "metadata": {},
   "outputs": [],
   "source": [
    "burning_list = [[wildfire_lon, wildfire_lat]]\n",
    "burned_list = []\n",
    "next_steps = []\n",
    "node_dist = .001"
   ]
  },
  {
   "cell_type": "code",
   "execution_count": null,
   "metadata": {},
   "outputs": [],
   "source": [
    "def timestep():\n",
    "    for step_num in range(len(next_steps)-1, -1, -1):\n",
    "        if next_steps[step_num][0] > 1:\n",
    "            next_steps[step_num][0] -= 1\n",
    "        else:\n",
    "            dostep(next_steps[step_num]) #to implement\n",
    "            next_steps.pop()\n",
    "    for burning_num in range(len(burning_list)-1, -1, -1):\n",
    "        #gonna implement later"
   ]
  }
 ],
 "metadata": {
  "kernelspec": {
   "display_name": "Python 3",
   "language": "python",
   "name": "python3"
  },
  "language_info": {
   "codemirror_mode": {
    "name": "ipython",
    "version": 3
   },
   "file_extension": ".py",
   "mimetype": "text/x-python",
   "name": "python",
   "nbconvert_exporter": "python",
   "pygments_lexer": "ipython3",
   "version": "3.11.6"
  },
  "orig_nbformat": 4
 },
 "nbformat": 4,
 "nbformat_minor": 2
}
