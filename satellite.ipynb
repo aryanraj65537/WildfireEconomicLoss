{
 "cells": [
  {
   "cell_type": "code",
   "execution_count": 1,
   "metadata": {},
   "outputs": [],
   "source": [
    "import matplotlib.pyplot as plt\n",
    "from IPython.display import Image\n",
    "import geemap\n",
    "import numpy as np\n",
    "import ee\n",
    "import datetime"
   ]
  },
  {
   "cell_type": "code",
   "execution_count": 2,
   "metadata": {},
   "outputs": [
    {
     "data": {
      "text/html": [
       "\n",
       "            <style>\n",
       "                .geemap-dark {\n",
       "                    --jp-widgets-color: white;\n",
       "                    --jp-widgets-label-color: white;\n",
       "                    --jp-ui-font-color1: white;\n",
       "                    --jp-layout-color2: #454545;\n",
       "                    background-color: #383838;\n",
       "                }\n",
       "                    \n",
       "                .geemap-dark .jupyter-button {\n",
       "                    --jp-layout-color3: #383838;\n",
       "                }\n",
       "                \n",
       "                .geemap-colab {\n",
       "                    background-color: var(--colab-primary-surface-color, white);\n",
       "                }\n",
       "                    \n",
       "                .geemap-colab .jupyter-button {\n",
       "                    --jp-layout-color3: var(--colab-primary-surface-color, white);\n",
       "                }\n",
       "            </style>\n",
       "            "
      ],
      "text/plain": [
       "<IPython.core.display.HTML object>"
      ]
     },
     "metadata": {},
     "output_type": "display_data"
    },
    {
     "data": {
      "text/html": [
       "<p>To authorize access needed by Earth Engine, open the following\n",
       "        URL in a web browser and follow the instructions:</p>\n",
       "        <p><a href=https://code.earthengine.google.com/client-auth?scopes=https%3A//www.googleapis.com/auth/earthengine%20https%3A//www.googleapis.com/auth/devstorage.full_control&request_id=1zmfKVngviV0usFGFP8GOb4NiPeggnXFoCv2zzwviAo&tc=N_G3eK7Dc04F6Tdnry6YJ_YAKlOVmbNgzzp-2pyG_Uc&cc=JpTcq3SoSZglH0Fe8YvqFUddnVNZwVrlcDlVI1eu2ko>https://code.earthengine.google.com/client-auth?scopes=https%3A//www.googleapis.com/auth/earthengine%20https%3A//www.googleapis.com/auth/devstorage.full_control&request_id=1zmfKVngviV0usFGFP8GOb4NiPeggnXFoCv2zzwviAo&tc=N_G3eK7Dc04F6Tdnry6YJ_YAKlOVmbNgzzp-2pyG_Uc&cc=JpTcq3SoSZglH0Fe8YvqFUddnVNZwVrlcDlVI1eu2ko</a></p>\n",
       "        <p>The authorization workflow will generate a code, which you should paste in the box below.</p>\n",
       "        "
      ],
      "text/plain": [
       "<IPython.core.display.HTML object>"
      ]
     },
     "metadata": {},
     "output_type": "display_data"
    },
    {
     "name": "stdout",
     "output_type": "stream",
     "text": [
      "\n",
      "Successfully saved authorization token.\n"
     ]
    }
   ],
   "source": [
    "ee.Authenticate()\n",
    "ee.Initialize()"
   ]
  },
  {
   "cell_type": "code",
   "execution_count": null,
   "metadata": {},
   "outputs": [
    {
     "data": {
      "text/html": [
       "\n",
       "            <style>\n",
       "                .geemap-dark {\n",
       "                    --jp-widgets-color: white;\n",
       "                    --jp-widgets-label-color: white;\n",
       "                    --jp-ui-font-color1: white;\n",
       "                    --jp-layout-color2: #454545;\n",
       "                    background-color: #383838;\n",
       "                }\n",
       "                    \n",
       "                .geemap-dark .jupyter-button {\n",
       "                    --jp-layout-color3: #383838;\n",
       "                }\n",
       "                \n",
       "                .geemap-colab {\n",
       "                    background-color: var(--colab-primary-surface-color, white);\n",
       "                }\n",
       "                    \n",
       "                .geemap-colab .jupyter-button {\n",
       "                    --jp-layout-color3: var(--colab-primary-surface-color, white);\n",
       "                }\n",
       "            </style>\n",
       "            "
      ],
      "text/plain": [
       "<IPython.core.display.HTML object>"
      ]
     },
     "metadata": {},
     "output_type": "display_data"
    }
   ],
   "source": [
    "wildfire_date = datetime.datetime.strptime('2021-07-13', '%Y-%m-%d')\n",
    "wildfire_lat = 39.819\n",
    "wildfire_lon = -121.419"
   ]
  },
  {
   "cell_type": "code",
   "execution_count": 4,
   "metadata": {},
   "outputs": [
    {
     "data": {
      "text/html": [
       "\n",
       "            <style>\n",
       "                .geemap-dark {\n",
       "                    --jp-widgets-color: white;\n",
       "                    --jp-widgets-label-color: white;\n",
       "                    --jp-ui-font-color1: white;\n",
       "                    --jp-layout-color2: #454545;\n",
       "                    background-color: #383838;\n",
       "                }\n",
       "                    \n",
       "                .geemap-dark .jupyter-button {\n",
       "                    --jp-layout-color3: #383838;\n",
       "                }\n",
       "                \n",
       "                .geemap-colab {\n",
       "                    background-color: var(--colab-primary-surface-color, white);\n",
       "                }\n",
       "                    \n",
       "                .geemap-colab .jupyter-button {\n",
       "                    --jp-layout-color3: var(--colab-primary-surface-color, white);\n",
       "                }\n",
       "            </style>\n",
       "            "
      ],
      "text/plain": [
       "<IPython.core.display.HTML object>"
      ]
     },
     "metadata": {},
     "output_type": "display_data"
    }
   ],
   "source": [
    "image_elevation = ee.Image(\"NASA/NASADEM_HGT/001\").select('elevation')\n",
    "params_elevation = {'min': 0, 'max': 2000}\n",
    "\n",
    "image_temperature = ee.ImageCollection(\"MODIS/061/MOD11A1\").filterDate(ee.DateRange(wildfire_date, wildfire_date + datetime.timedelta(weeks=25))).select('LST_Day_1km')\n",
    "def calculateWeeklyAverages(image_collection):\n",
    "    weekly_averages = []\n",
    "    for i in range(25):\n",
    "        start_date = wildfire_date + datetime.timedelta(weeks=i)\n",
    "        end_date = wildfire_date + datetime.timedelta(weeks=i+1)\n",
    "        weekly_collection = image_collection.filterDate(start_date, end_date)\n",
    "        weekly_mean = weekly_collection.mean()\n",
    "        weekly_averages.append(weekly_mean)\n",
    "    return ee.ImageCollection(weekly_averages)\n",
    "image_temperature_weekly = calculateWeeklyAverages(image_temperature)\n",
    "params_temperature = {'min': 13000, 'max': 16500,'palette': ['040274', '040281', '0502a3', '0502b8', '0502ce', '0502e6', '0602ff', '235cb1', '307ef3', '269db1', '30c8e2', '32d3ef', '3be285', '3ff38f', '86e26f', '3ae237', 'b5e22e', 'd6e21f', 'fff705', 'ffd611', 'ffb613', 'ff8b13', 'ff6e08', 'ff500d', 'ff0000', 'de0101', 'c21301', 'a71001', '911003']}\n",
    "\n",
    "image_biomass = ee.ImageCollection(\"WCMC/biomass_carbon_density/v1_0\")\n",
    "params_biomass = {'min': 1, 'max': 180, 'palette': ['d9f0a3', 'addd8e', '78c679', '41ab5d', '238443', '005a32']}"
   ]
  },
  {
   "cell_type": "code",
   "execution_count": null,
   "metadata": {},
   "outputs": [],
   "source": [
    "Map = geemap.Map()\n",
    "Map.set_center(wildfire_lon, wildfire_lat, 6)\n",
    "\n",
    "Map.add_layer(image_elevation, params_elevation, 'elevation')\n",
    "\n",
    "Map.addLayer(image_temperature_weekly, params_temperature, 'Weekly Temperature Average')\n",
    "Map.add_time_slider(image_temperature_weekly, params_temperature, labels=[(wildfire_date + datetime.timedelta(weeks=i)).strftime('%Y-%m-%d')+' to '+(wildfire_date + datetime.timedelta(weeks=i+1)).strftime('%Y-%m-%d') for i in range(25)])\n",
    "\n",
    "Map.add_layer(image_biomass.select('carbon_tonnes_per_ha'), params_biomass, 'biomass')\n",
    "\n",
    "Map"
   ]
  }
 ],
 "metadata": {
  "kernelspec": {
   "display_name": "Python 3",
   "language": "python",
   "name": "python3"
  },
  "language_info": {
   "codemirror_mode": {
    "name": "ipython",
    "version": 3
   },
   "file_extension": ".py",
   "mimetype": "text/x-python",
   "name": "python",
   "nbconvert_exporter": "python",
   "pygments_lexer": "ipython3",
   "version": "3.11.4"
  },
  "orig_nbformat": 4
 },
 "nbformat": 4,
 "nbformat_minor": 2
}
