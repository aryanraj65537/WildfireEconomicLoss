{
 "cells": [
  {
   "cell_type": "code",
   "execution_count": 5,
   "metadata": {},
   "outputs": [
    {
     "data": {
      "text/html": [
       "<p>To authorize access needed by Earth Engine, open the following\n",
       "        URL in a web browser and follow the instructions:</p>\n",
       "        <p><a href=https://code.earthengine.google.com/client-auth?scopes=https%3A//www.googleapis.com/auth/earthengine%20https%3A//www.googleapis.com/auth/devstorage.full_control&request_id=Zb-aqKgUxbjaJSnLZ5IiiyJnNsGW0qhM3KICsI2gcds&tc=YZT33q_GZ_kdyLP83EcEOPNJY08APmAIUjMpAl4yn1s&cc=jOisE9R0y8vXlJsb9Az22V5MaMZrWKeVqj87TTI91G4>https://code.earthengine.google.com/client-auth?scopes=https%3A//www.googleapis.com/auth/earthengine%20https%3A//www.googleapis.com/auth/devstorage.full_control&request_id=Zb-aqKgUxbjaJSnLZ5IiiyJnNsGW0qhM3KICsI2gcds&tc=YZT33q_GZ_kdyLP83EcEOPNJY08APmAIUjMpAl4yn1s&cc=jOisE9R0y8vXlJsb9Az22V5MaMZrWKeVqj87TTI91G4</a></p>\n",
       "        <p>The authorization workflow will generate a code, which you should paste in the box below.</p>\n",
       "        "
      ],
      "text/plain": [
       "<IPython.core.display.HTML object>"
      ]
     },
     "metadata": {},
     "output_type": "display_data"
    },
    {
     "name": "stdout",
     "output_type": "stream",
     "text": [
      "\n",
      "Successfully saved authorization token.\n"
     ]
    },
    {
     "data": {
      "image/png": "[encoded data removed]",
      "text/plain": [
       "<Figure size 640x480 with 1 Axes>"
      ]
     },
     "metadata": {},
     "output_type": "display_data"
    }
   ],
   "source": [
    "import matplotlib.pyplot as plt\n",
    "from matplotlib.animation import FuncAnimation\n",
    "import numpy as np\n",
    "import random\n",
    "import ee\n",
    "\n",
    "# Initialize Earth Engine\n",
    "ee.Authenticate()\n",
    "ee.Initialize()\n",
    "\n",
    "# Define the wildfire location and node distance\n",
    "wildfire_lat = 39.819\n",
    "wildfire_lon = -121.419\n",
    "node_dist = .0009\n",
    "\n",
    "# Initialize the scheduler and burned sets\n",
    "scheduler = {\n",
    "    0: {(wildfire_lon, wildfire_lat)}\n",
    "}\n",
    "burned = set()\n",
    "\n",
    "# Task tracking\n",
    "last_task = 0\n",
    "cur_task = 0\n",
    "\n",
    "# Earth Engine datasets\n",
    "image_elevation = ee.Image(\"NASA/NASADEM_HGT/001\").select('elevation')\n",
    "image_temperature = ee.ImageCollection(\"MODIS/061/MOD11A1\").select('LST_Day_1km')\n",
    "image_biomass = ee.ImageCollection(\"WCMC/biomass_carbon_density/v1_0\").select('carbon_tonnes_per_ha')\n",
    "\n",
    "# Function to get dataset values\n",
    "def dataset_value(dataset, lon, lat):\n",
    "    point = ee.Geometry.Point([lon, lat])\n",
    "    if isinstance(dataset, ee.imagecollection.ImageCollection):\n",
    "        dataset = dataset.mean()\n",
    "    value = dataset.reduceRegion(\n",
    "        reducer=ee.Reducer.first(), \n",
    "        geometry=point, \n",
    "        scale=30\n",
    "    ).getInfo()\n",
    "    return value\n",
    "\n",
    "# Probability and time calculation functions\n",
    "def calc_prob(node1, node2):\n",
    "    elevation1 = dataset_value(image_elevation, *node1)['elevation']\n",
    "    elevation2 = dataset_value(image_elevation, *node2)['elevation']\n",
    "    temp1 = dataset_value(image_temperature, *node1)['LST_Day_1km']\n",
    "    temp2 = dataset_value(image_temperature, *node2)['LST_Day_1km']\n",
    "    biomass1 = dataset_value(image_biomass, *node1)['carbon_tonnes_per_ha']\n",
    "    biomass2 = dataset_value(image_biomass, *node2)['carbon_tonnes_per_ha']\n",
    "\n",
    "    elevation_factor = abs(elevation1 - elevation2)\n",
    "    temperature_factor = abs(temp1 - temp2)\n",
    "    biomass_factor = abs(biomass1 - biomass2)\n",
    "\n",
    "    pn = 0.5\n",
    "    alpha_wh = 1 + elevation_factor * 0.1\n",
    "    em = 1 + temperature_factor * 0.01 - biomass_factor * 0.01\n",
    "\n",
    "    pij = (1 - (1 - pn) ** alpha_wh) * em\n",
    "    return pij\n",
    "\n",
    "def calc_time(node1, node2):\n",
    "    elevation1 = dataset_value(image_elevation, *node1)['elevation']\n",
    "    elevation2 = dataset_value(image_elevation, *node2)['elevation']\n",
    "    temp1 = dataset_value(image_temperature, *node1)['LST_Day_1km']\n",
    "    temp2 = dataset_value(image_temperature, *node2)['LST_Day_1km']\n",
    "    biomass1 = dataset_value(image_biomass, *node1)['carbon_tonnes_per_ha']\n",
    "    biomass2 = dataset_value(image_biomass, *node2)['carbon_tonnes_per_ha']\n",
    "\n",
    "    elevation_factor = abs(elevation1 - elevation2)\n",
    "    temperature_factor = abs(temp1 - temp2)\n",
    "    biomass_factor = abs(biomass1 - biomass2)\n",
    "\n",
    "    d = 1\n",
    "    vprop_base = 1\n",
    "    vprop = vprop_base + elevation_factor * 0.05 - temperature_factor * 0.01 + biomass_factor * 0.02\n",
    "\n",
    "    delta_t = d / vprop\n",
    "    return delta_t\n",
    "\n",
    "# Visualization function adapted for animation\n",
    "def visualize_fire(frame):\n",
    "    global scheduler, burned, last_task, cur_task\n",
    "    ax.clear()\n",
    "\n",
    "    x_min, x_max = -121.43, -121.41\n",
    "    y_min, y_max = 39.81, 39.83\n",
    "    grid_x, grid_y = np.mgrid[x_min:x_max:node_dist, y_min:y_max:node_dist]\n",
    "    grid = np.zeros(grid_x.shape, dtype=int)\n",
    "\n",
    "    for burned_node in burned:\n",
    "        grid[int((burned_node[0] - x_min) / node_dist), int((burned_node[1] - y_min) / node_dist)] = 2\n",
    "\n",
    "    if frame in scheduler:\n",
    "        for node in scheduler[frame]:\n",
    "            grid[int((node[0] - x_min) / node_dist), int((node[1] - y_min) / node_dist)] = 1\n",
    "\n",
    "    ax.imshow(grid.T, cmap='hot', origin='lower', extent=[x_min, x_max, y_min, y_max])\n",
    "    ax.set_title(f'Wildfire Spread Simulation at Step {frame}')\n",
    "    ax.set_xlabel('Longitude')\n",
    "\n",
    "fig, ax = plt.subplots()\n",
    "\n",
    "# Initialize the animation\n",
    "ani = FuncAnimation(fig, visualize_fire, frames=range(last_task + 1), interval=1000)\n",
    "\n",
    "# Display the animation in a Jupyter Notebook\n",
    "plt.show()\n"
   ]
  }
 ],
 "metadata": {
  "kernelspec": {
   "display_name": "Python 3",
   "language": "python",
   "name": "python3"
  },
  "language_info": {
   "codemirror_mode": {
    "name": "ipython",
    "version": 3
   },
   "file_extension": ".py",
   "mimetype": "text/x-python",
   "name": "python",
   "nbconvert_exporter": "python",
   "pygments_lexer": "ipython3",
   "version": "3.11.6"
  }
 },
 "nbformat": 4,
 "nbformat_minor": 2
}
