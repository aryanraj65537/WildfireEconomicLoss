{
 "cells": [
  {
   "cell_type": "code",
   "execution_count": 4,
   "metadata": {},
   "outputs": [
    {
     "data": {
      "text/html": [
       "\n",
       "            <style>\n",
       "                .geemap-dark {\n",
       "                    --jp-widgets-color: white;\n",
       "                    --jp-widgets-label-color: white;\n",
       "                    --jp-ui-font-color1: white;\n",
       "                    --jp-layout-color2: #454545;\n",
       "                    background-color: #383838;\n",
       "                }\n",
       "                    \n",
       "                .geemap-dark .jupyter-button {\n",
       "                    --jp-layout-color3: #383838;\n",
       "                }\n",
       "                \n",
       "                .geemap-colab {\n",
       "                    background-color: var(--colab-primary-surface-color, white);\n",
       "                }\n",
       "                    \n",
       "                .geemap-colab .jupyter-button {\n",
       "                    --jp-layout-color3: var(--colab-primary-surface-color, white);\n",
       "                }\n",
       "            </style>\n",
       "            "
      ],
      "text/plain": [
       "<IPython.core.display.HTML object>"
      ]
     },
     "metadata": {},
     "output_type": "display_data"
    },
    {
     "data": {
      "text/html": [
       "<p>To authorize access needed by Earth Engine, open the following\n",
       "        URL in a web browser and follow the instructions:</p>\n",
       "        <p><a href=https://code.earthengine.google.com/client-auth?scopes=https%3A//www.googleapis.com/auth/earthengine%20https%3A//www.googleapis.com/auth/devstorage.full_control&request_id=BWgTscpai4VW97g8Yx2kk9kpQpc5dFLwSiKJk0qdGUk&tc=rb0zvKPkf5MkuTXwqrQRyCHt5YPMfq52j4muesdXav4&cc=e07QQdDgGQ9StsFVlrppc7czAx1t85QNgGIRdSgHy3M>https://code.earthengine.google.com/client-auth?scopes=https%3A//www.googleapis.com/auth/earthengine%20https%3A//www.googleapis.com/auth/devstorage.full_control&request_id=BWgTscpai4VW97g8Yx2kk9kpQpc5dFLwSiKJk0qdGUk&tc=rb0zvKPkf5MkuTXwqrQRyCHt5YPMfq52j4muesdXav4&cc=e07QQdDgGQ9StsFVlrppc7czAx1t85QNgGIRdSgHy3M</a></p>\n",
       "        <p>The authorization workflow will generate a code, which you should paste in the box below.</p>\n",
       "        "
      ],
      "text/plain": [
       "<IPython.core.display.HTML object>"
      ]
     },
     "metadata": {},
     "output_type": "display_data"
    },
    {
     "name": "stdout",
     "output_type": "stream",
     "text": [
      "\n",
      "Successfully saved authorization token.\n"
     ]
    }
   ],
   "source": [
    "import ee\n",
    "\n",
    "# Initialize Earth Engine\n",
    "ee.Authenticate()\n",
    "ee.Initialize()"
   ]
  },
  {
   "cell_type": "code",
   "execution_count": 17,
   "metadata": {},
   "outputs": [
    {
     "data": {
      "text/html": [
       "\n",
       "            <style>\n",
       "                .geemap-dark {\n",
       "                    --jp-widgets-color: white;\n",
       "                    --jp-widgets-label-color: white;\n",
       "                    --jp-ui-font-color1: white;\n",
       "                    --jp-layout-color2: #454545;\n",
       "                    background-color: #383838;\n",
       "                }\n",
       "                    \n",
       "                .geemap-dark .jupyter-button {\n",
       "                    --jp-layout-color3: #383838;\n",
       "                }\n",
       "                \n",
       "                .geemap-colab {\n",
       "                    background-color: var(--colab-primary-surface-color, white);\n",
       "                }\n",
       "                    \n",
       "                .geemap-colab .jupyter-button {\n",
       "                    --jp-layout-color3: var(--colab-primary-surface-color, white);\n",
       "                }\n",
       "            </style>\n",
       "            "
      ],
      "text/plain": [
       "<IPython.core.display.HTML object>"
      ]
     },
     "metadata": {},
     "output_type": "display_data"
    },
    {
     "ename": "KeyboardInterrupt",
     "evalue": "",
     "output_type": "error",
     "traceback": [
      "\u001b[1;31m---------------------------------------------------------------------------\u001b[0m",
      "\u001b[1;31mKeyboardInterrupt\u001b[0m                         Traceback (most recent call last)",
      "\u001b[1;32mc:\\Users\\aryr1\\dev\\WildfireEconomicLoss\\nishanthorz.ipynb Cell 2\u001b[0m line \u001b[0;36m9\n\u001b[0;32m     <a href='vscode-notebook-cell:/c%3A/Users/aryr1/dev/WildfireEconomicLoss/nishanthorz.ipynb#W0sZmlsZQ%3D%3D?line=90'>91</a>\u001b[0m \u001b[39mif\u001b[39;00m next_node \u001b[39min\u001b[39;00m burned:\n\u001b[0;32m     <a href='vscode-notebook-cell:/c%3A/Users/aryr1/dev/WildfireEconomicLoss/nishanthorz.ipynb#W0sZmlsZQ%3D%3D?line=91'>92</a>\u001b[0m     \u001b[39mcontinue\u001b[39;00m\n\u001b[1;32m---> <a href='vscode-notebook-cell:/c%3A/Users/aryr1/dev/WildfireEconomicLoss/nishanthorz.ipynb#W0sZmlsZQ%3D%3D?line=92'>93</a>\u001b[0m \u001b[39mif\u001b[39;00m random\u001b[39m.\u001b[39mrandom() \u001b[39m>\u001b[39m calc_prob(node, next_node):\n\u001b[0;32m     <a href='vscode-notebook-cell:/c%3A/Users/aryr1/dev/WildfireEconomicLoss/nishanthorz.ipynb#W0sZmlsZQ%3D%3D?line=93'>94</a>\u001b[0m     \u001b[39mcontinue\u001b[39;00m\n\u001b[0;32m     <a href='vscode-notebook-cell:/c%3A/Users/aryr1/dev/WildfireEconomicLoss/nishanthorz.ipynb#W0sZmlsZQ%3D%3D?line=94'>95</a>\u001b[0m next_time \u001b[39m=\u001b[39m calc_time(node, next_node) \u001b[39m+\u001b[39m cur_task\n",
      "\u001b[1;32mc:\\Users\\aryr1\\dev\\WildfireEconomicLoss\\nishanthorz.ipynb Cell 2\u001b[0m line \u001b[0;36m4\n\u001b[0;32m     <a href='vscode-notebook-cell:/c%3A/Users/aryr1/dev/WildfireEconomicLoss/nishanthorz.ipynb#W0sZmlsZQ%3D%3D?line=40'>41</a>\u001b[0m \u001b[39mdef\u001b[39;00m \u001b[39mcalc_prob\u001b[39m(node1, node2):\n\u001b[1;32m---> <a href='vscode-notebook-cell:/c%3A/Users/aryr1/dev/WildfireEconomicLoss/nishanthorz.ipynb#W0sZmlsZQ%3D%3D?line=41'>42</a>\u001b[0m     biomass2 \u001b[39m=\u001b[39m dataset_value(image_biomass, \u001b[39m*\u001b[39;49mnode2)[\u001b[39m'\u001b[39m\u001b[39mcarbon_tonnes_per_ha\u001b[39m\u001b[39m'\u001b[39m]\n\u001b[0;32m     <a href='vscode-notebook-cell:/c%3A/Users/aryr1/dev/WildfireEconomicLoss/nishanthorz.ipynb#W0sZmlsZQ%3D%3D?line=42'>43</a>\u001b[0m     elevdiff \u001b[39m=\u001b[39m dataset_value(image_elevation, \u001b[39m*\u001b[39mnode1)[\u001b[39m'\u001b[39m\u001b[39melevation\u001b[39m\u001b[39m'\u001b[39m]\u001b[39m-\u001b[39mdataset_value(image_elevation, \u001b[39m*\u001b[39mnode2)[\u001b[39m'\u001b[39m\u001b[39melevation\u001b[39m\u001b[39m'\u001b[39m]\n\u001b[0;32m     <a href='vscode-notebook-cell:/c%3A/Users/aryr1/dev/WildfireEconomicLoss/nishanthorz.ipynb#W0sZmlsZQ%3D%3D?line=43'>44</a>\u001b[0m     moisture2 \u001b[39m=\u001b[39m dataset_value(image_moisture, \u001b[39m*\u001b[39mnode2)[\u001b[39m'\u001b[39m\u001b[39mssm\u001b[39m\u001b[39m'\u001b[39m]\n",
      "\u001b[1;32mc:\\Users\\aryr1\\dev\\WildfireEconomicLoss\\nishanthorz.ipynb Cell 2\u001b[0m line \u001b[0;36m3\n\u001b[0;32m     <a href='vscode-notebook-cell:/c%3A/Users/aryr1/dev/WildfireEconomicLoss/nishanthorz.ipynb#W0sZmlsZQ%3D%3D?line=28'>29</a>\u001b[0m \u001b[39mif\u001b[39;00m \u001b[39misinstance\u001b[39m(dataset, ee\u001b[39m.\u001b[39mimagecollection\u001b[39m.\u001b[39mImageCollection):\n\u001b[0;32m     <a href='vscode-notebook-cell:/c%3A/Users/aryr1/dev/WildfireEconomicLoss/nishanthorz.ipynb#W0sZmlsZQ%3D%3D?line=29'>30</a>\u001b[0m     dataset \u001b[39m=\u001b[39m dataset\u001b[39m.\u001b[39mmean()\n\u001b[0;32m     <a href='vscode-notebook-cell:/c%3A/Users/aryr1/dev/WildfireEconomicLoss/nishanthorz.ipynb#W0sZmlsZQ%3D%3D?line=30'>31</a>\u001b[0m value \u001b[39m=\u001b[39m dataset\u001b[39m.\u001b[39;49mreduceRegion(\n\u001b[0;32m     <a href='vscode-notebook-cell:/c%3A/Users/aryr1/dev/WildfireEconomicLoss/nishanthorz.ipynb#W0sZmlsZQ%3D%3D?line=31'>32</a>\u001b[0m     reducer\u001b[39m=\u001b[39;49mee\u001b[39m.\u001b[39;49mReducer\u001b[39m.\u001b[39;49mfirst(), \n\u001b[0;32m     <a href='vscode-notebook-cell:/c%3A/Users/aryr1/dev/WildfireEconomicLoss/nishanthorz.ipynb#W0sZmlsZQ%3D%3D?line=32'>33</a>\u001b[0m     geometry\u001b[39m=\u001b[39;49mpoint, \n\u001b[0;32m     <a href='vscode-notebook-cell:/c%3A/Users/aryr1/dev/WildfireEconomicLoss/nishanthorz.ipynb#W0sZmlsZQ%3D%3D?line=33'>34</a>\u001b[0m     scale\u001b[39m=\u001b[39;49m\u001b[39m30\u001b[39;49m\n\u001b[1;32m---> <a href='vscode-notebook-cell:/c%3A/Users/aryr1/dev/WildfireEconomicLoss/nishanthorz.ipynb#W0sZmlsZQ%3D%3D?line=34'>35</a>\u001b[0m )\u001b[39m.\u001b[39;49mgetInfo()\n\u001b[0;32m     <a href='vscode-notebook-cell:/c%3A/Users/aryr1/dev/WildfireEconomicLoss/nishanthorz.ipynb#W0sZmlsZQ%3D%3D?line=35'>36</a>\u001b[0m \u001b[39mreturn\u001b[39;00m value\n",
      "File \u001b[1;32mc:\\Users\\aryr1\\AppData\\Local\\Programs\\Python\\Python311\\Lib\\site-packages\\ee\\computedobject.py:103\u001b[0m, in \u001b[0;36mComputedObject.getInfo\u001b[1;34m(self)\u001b[0m\n\u001b[0;32m     97\u001b[0m \u001b[39mdef\u001b[39;00m \u001b[39mgetInfo\u001b[39m(\u001b[39mself\u001b[39m) \u001b[39m-\u001b[39m\u001b[39m>\u001b[39m Optional[Any]:\n\u001b[0;32m     98\u001b[0m \u001b[39m  \u001b[39m\u001b[39m\"\"\"Fetch and return information about this object.\u001b[39;00m\n\u001b[0;32m     99\u001b[0m \n\u001b[0;32m    100\u001b[0m \u001b[39m  Returns:\u001b[39;00m\n\u001b[0;32m    101\u001b[0m \u001b[39m    The object can evaluate to anything.\u001b[39;00m\n\u001b[0;32m    102\u001b[0m \u001b[39m  \"\"\"\u001b[39;00m\n\u001b[1;32m--> 103\u001b[0m   \u001b[39mreturn\u001b[39;00m data\u001b[39m.\u001b[39;49mcomputeValue(\u001b[39mself\u001b[39;49m)\n",
      "File \u001b[1;32mc:\\Users\\aryr1\\AppData\\Local\\Programs\\Python\\Python311\\Lib\\site-packages\\ee\\data.py:971\u001b[0m, in \u001b[0;36mcomputeValue\u001b[1;34m(obj)\u001b[0m\n\u001b[0;32m    968\u001b[0m body \u001b[39m=\u001b[39m {\u001b[39m'\u001b[39m\u001b[39mexpression\u001b[39m\u001b[39m'\u001b[39m: serializer\u001b[39m.\u001b[39mencode(obj, for_cloud_api\u001b[39m=\u001b[39m\u001b[39mTrue\u001b[39;00m)}\n\u001b[0;32m    969\u001b[0m _maybe_populate_workload_tag(body)\n\u001b[1;32m--> 971\u001b[0m \u001b[39mreturn\u001b[39;00m _execute_cloud_call(\n\u001b[0;32m    972\u001b[0m     _get_cloud_projects()\n\u001b[0;32m    973\u001b[0m     \u001b[39m.\u001b[39;49mvalue()\n\u001b[0;32m    974\u001b[0m     \u001b[39m.\u001b[39;49mcompute(body\u001b[39m=\u001b[39;49mbody, project\u001b[39m=\u001b[39;49m_get_projects_path(), prettyPrint\u001b[39m=\u001b[39;49m\u001b[39mFalse\u001b[39;49;00m)\n\u001b[0;32m    975\u001b[0m )[\u001b[39m'\u001b[39m\u001b[39mresult\u001b[39m\u001b[39m'\u001b[39m]\n",
      "File \u001b[1;32mc:\\Users\\aryr1\\AppData\\Local\\Programs\\Python\\Python311\\Lib\\site-packages\\ee\\data.py:352\u001b[0m, in \u001b[0;36m_execute_cloud_call\u001b[1;34m(call, num_retries)\u001b[0m\n\u001b[0;32m    338\u001b[0m \u001b[39m\u001b[39m\u001b[39m\"\"\"Executes a Cloud API call and translates errors to EEExceptions.\u001b[39;00m\n\u001b[0;32m    339\u001b[0m \n\u001b[0;32m    340\u001b[0m \u001b[39mArgs:\u001b[39;00m\n\u001b[1;32m   (...)\u001b[0m\n\u001b[0;32m    349\u001b[0m \u001b[39m  EEException if the call fails.\u001b[39;00m\n\u001b[0;32m    350\u001b[0m \u001b[39m\"\"\"\u001b[39;00m\n\u001b[0;32m    351\u001b[0m \u001b[39mtry\u001b[39;00m:\n\u001b[1;32m--> 352\u001b[0m   \u001b[39mreturn\u001b[39;00m call\u001b[39m.\u001b[39;49mexecute(num_retries\u001b[39m=\u001b[39;49mnum_retries)\n\u001b[0;32m    353\u001b[0m \u001b[39mexcept\u001b[39;00m googleapiclient\u001b[39m.\u001b[39merrors\u001b[39m.\u001b[39mHttpError \u001b[39mas\u001b[39;00m e:\n\u001b[0;32m    354\u001b[0m   \u001b[39mraise\u001b[39;00m _translate_cloud_exception(e)\n",
      "File \u001b[1;32mc:\\Users\\aryr1\\AppData\\Local\\Programs\\Python\\Python311\\Lib\\site-packages\\googleapiclient\\_helpers.py:130\u001b[0m, in \u001b[0;36mpositional.<locals>.positional_decorator.<locals>.positional_wrapper\u001b[1;34m(*args, **kwargs)\u001b[0m\n\u001b[0;32m    128\u001b[0m     \u001b[39melif\u001b[39;00m positional_parameters_enforcement \u001b[39m==\u001b[39m POSITIONAL_WARNING:\n\u001b[0;32m    129\u001b[0m         logger\u001b[39m.\u001b[39mwarning(message)\n\u001b[1;32m--> 130\u001b[0m \u001b[39mreturn\u001b[39;00m wrapped(\u001b[39m*\u001b[39;49margs, \u001b[39m*\u001b[39;49m\u001b[39m*\u001b[39;49mkwargs)\n",
      "File \u001b[1;32mc:\\Users\\aryr1\\AppData\\Local\\Programs\\Python\\Python311\\Lib\\site-packages\\googleapiclient\\http.py:923\u001b[0m, in \u001b[0;36mHttpRequest.execute\u001b[1;34m(self, http, num_retries)\u001b[0m\n\u001b[0;32m    920\u001b[0m     \u001b[39mself\u001b[39m\u001b[39m.\u001b[39mheaders[\u001b[39m\"\u001b[39m\u001b[39mcontent-length\u001b[39m\u001b[39m\"\u001b[39m] \u001b[39m=\u001b[39m \u001b[39mstr\u001b[39m(\u001b[39mlen\u001b[39m(\u001b[39mself\u001b[39m\u001b[39m.\u001b[39mbody))\n\u001b[0;32m    922\u001b[0m \u001b[39m# Handle retries for server-side errors.\u001b[39;00m\n\u001b[1;32m--> 923\u001b[0m resp, content \u001b[39m=\u001b[39m _retry_request(\n\u001b[0;32m    924\u001b[0m     http,\n\u001b[0;32m    925\u001b[0m     num_retries,\n\u001b[0;32m    926\u001b[0m     \u001b[39m\"\u001b[39;49m\u001b[39mrequest\u001b[39;49m\u001b[39m\"\u001b[39;49m,\n\u001b[0;32m    927\u001b[0m     \u001b[39mself\u001b[39;49m\u001b[39m.\u001b[39;49m_sleep,\n\u001b[0;32m    928\u001b[0m     \u001b[39mself\u001b[39;49m\u001b[39m.\u001b[39;49m_rand,\n\u001b[0;32m    929\u001b[0m     \u001b[39mstr\u001b[39;49m(\u001b[39mself\u001b[39;49m\u001b[39m.\u001b[39;49muri),\n\u001b[0;32m    930\u001b[0m     method\u001b[39m=\u001b[39;49m\u001b[39mstr\u001b[39;49m(\u001b[39mself\u001b[39;49m\u001b[39m.\u001b[39;49mmethod),\n\u001b[0;32m    931\u001b[0m     body\u001b[39m=\u001b[39;49m\u001b[39mself\u001b[39;49m\u001b[39m.\u001b[39;49mbody,\n\u001b[0;32m    932\u001b[0m     headers\u001b[39m=\u001b[39;49m\u001b[39mself\u001b[39;49m\u001b[39m.\u001b[39;49mheaders,\n\u001b[0;32m    933\u001b[0m )\n\u001b[0;32m    935\u001b[0m \u001b[39mfor\u001b[39;00m callback \u001b[39min\u001b[39;00m \u001b[39mself\u001b[39m\u001b[39m.\u001b[39mresponse_callbacks:\n\u001b[0;32m    936\u001b[0m     callback(resp)\n",
      "File \u001b[1;32mc:\\Users\\aryr1\\AppData\\Local\\Programs\\Python\\Python311\\Lib\\site-packages\\googleapiclient\\http.py:191\u001b[0m, in \u001b[0;36m_retry_request\u001b[1;34m(http, num_retries, req_type, sleep, rand, uri, method, *args, **kwargs)\u001b[0m\n\u001b[0;32m    189\u001b[0m \u001b[39mtry\u001b[39;00m:\n\u001b[0;32m    190\u001b[0m     exception \u001b[39m=\u001b[39m \u001b[39mNone\u001b[39;00m\n\u001b[1;32m--> 191\u001b[0m     resp, content \u001b[39m=\u001b[39m http\u001b[39m.\u001b[39;49mrequest(uri, method, \u001b[39m*\u001b[39;49margs, \u001b[39m*\u001b[39;49m\u001b[39m*\u001b[39;49mkwargs)\n\u001b[0;32m    192\u001b[0m \u001b[39m# Retry on SSL errors and socket timeout errors.\u001b[39;00m\n\u001b[0;32m    193\u001b[0m \u001b[39mexcept\u001b[39;00m _ssl_SSLError \u001b[39mas\u001b[39;00m ssl_error:\n",
      "File \u001b[1;32mc:\\Users\\aryr1\\AppData\\Local\\Programs\\Python\\Python311\\Lib\\site-packages\\google_auth_httplib2.py:218\u001b[0m, in \u001b[0;36mAuthorizedHttp.request\u001b[1;34m(self, uri, method, body, headers, redirections, connection_type, **kwargs)\u001b[0m\n\u001b[0;32m    215\u001b[0m     body_stream_position \u001b[39m=\u001b[39m body\u001b[39m.\u001b[39mtell()\n\u001b[0;32m    217\u001b[0m \u001b[39m# Make the request.\u001b[39;00m\n\u001b[1;32m--> 218\u001b[0m response, content \u001b[39m=\u001b[39m \u001b[39mself\u001b[39;49m\u001b[39m.\u001b[39;49mhttp\u001b[39m.\u001b[39;49mrequest(\n\u001b[0;32m    219\u001b[0m     uri,\n\u001b[0;32m    220\u001b[0m     method,\n\u001b[0;32m    221\u001b[0m     body\u001b[39m=\u001b[39;49mbody,\n\u001b[0;32m    222\u001b[0m     headers\u001b[39m=\u001b[39;49mrequest_headers,\n\u001b[0;32m    223\u001b[0m     redirections\u001b[39m=\u001b[39;49mredirections,\n\u001b[0;32m    224\u001b[0m     connection_type\u001b[39m=\u001b[39;49mconnection_type,\n\u001b[0;32m    225\u001b[0m     \u001b[39m*\u001b[39;49m\u001b[39m*\u001b[39;49mkwargs\n\u001b[0;32m    226\u001b[0m )\n\u001b[0;32m    228\u001b[0m \u001b[39m# If the response indicated that the credentials needed to be\u001b[39;00m\n\u001b[0;32m    229\u001b[0m \u001b[39m# refreshed, then refresh the credentials and re-attempt the\u001b[39;00m\n\u001b[0;32m    230\u001b[0m \u001b[39m# request.\u001b[39;00m\n\u001b[0;32m    231\u001b[0m \u001b[39m# A stored token may expire between the time it is retrieved and\u001b[39;00m\n\u001b[0;32m    232\u001b[0m \u001b[39m# the time the request is made, so we may need to try twice.\u001b[39;00m\n\u001b[0;32m    233\u001b[0m \u001b[39mif\u001b[39;00m (\n\u001b[0;32m    234\u001b[0m     response\u001b[39m.\u001b[39mstatus \u001b[39min\u001b[39;00m \u001b[39mself\u001b[39m\u001b[39m.\u001b[39m_refresh_status_codes\n\u001b[0;32m    235\u001b[0m     \u001b[39mand\u001b[39;00m _credential_refresh_attempt \u001b[39m<\u001b[39m \u001b[39mself\u001b[39m\u001b[39m.\u001b[39m_max_refresh_attempts\n\u001b[0;32m    236\u001b[0m ):\n",
      "File \u001b[1;32mc:\\Users\\aryr1\\AppData\\Local\\Programs\\Python\\Python311\\Lib\\site-packages\\ee\\_cloud_api_utils.py:62\u001b[0m, in \u001b[0;36m_Http.request\u001b[1;34m(***failed resolving arguments***)\u001b[0m\n\u001b[0;32m     60\u001b[0m \u001b[39mwith\u001b[39;00m requests\u001b[39m.\u001b[39mSession() \u001b[39mas\u001b[39;00m session:\n\u001b[0;32m     61\u001b[0m   session\u001b[39m.\u001b[39mmax_redirects \u001b[39m=\u001b[39m redirections\n\u001b[1;32m---> 62\u001b[0m   response \u001b[39m=\u001b[39m session\u001b[39m.\u001b[39;49mrequest(\n\u001b[0;32m     63\u001b[0m       method, uri, data\u001b[39m=\u001b[39;49mbody, headers\u001b[39m=\u001b[39;49mheaders, timeout\u001b[39m=\u001b[39;49m\u001b[39mself\u001b[39;49m\u001b[39m.\u001b[39;49m_timeout)\n\u001b[0;32m     64\u001b[0m   headers \u001b[39m=\u001b[39m \u001b[39mdict\u001b[39m(response\u001b[39m.\u001b[39mheaders)\n\u001b[0;32m     65\u001b[0m   headers[\u001b[39m'\u001b[39m\u001b[39mstatus\u001b[39m\u001b[39m'\u001b[39m] \u001b[39m=\u001b[39m response\u001b[39m.\u001b[39mstatus_code\n",
      "File \u001b[1;32mc:\\Users\\aryr1\\AppData\\Local\\Programs\\Python\\Python311\\Lib\\site-packages\\requests\\sessions.py:589\u001b[0m, in \u001b[0;36mSession.request\u001b[1;34m(self, method, url, params, data, headers, cookies, files, auth, timeout, allow_redirects, proxies, hooks, stream, verify, cert, json)\u001b[0m\n\u001b[0;32m    584\u001b[0m send_kwargs \u001b[39m=\u001b[39m {\n\u001b[0;32m    585\u001b[0m     \u001b[39m\"\u001b[39m\u001b[39mtimeout\u001b[39m\u001b[39m\"\u001b[39m: timeout,\n\u001b[0;32m    586\u001b[0m     \u001b[39m\"\u001b[39m\u001b[39mallow_redirects\u001b[39m\u001b[39m\"\u001b[39m: allow_redirects,\n\u001b[0;32m    587\u001b[0m }\n\u001b[0;32m    588\u001b[0m send_kwargs\u001b[39m.\u001b[39mupdate(settings)\n\u001b[1;32m--> 589\u001b[0m resp \u001b[39m=\u001b[39m \u001b[39mself\u001b[39;49m\u001b[39m.\u001b[39;49msend(prep, \u001b[39m*\u001b[39;49m\u001b[39m*\u001b[39;49msend_kwargs)\n\u001b[0;32m    591\u001b[0m \u001b[39mreturn\u001b[39;00m resp\n",
      "File \u001b[1;32mc:\\Users\\aryr1\\AppData\\Local\\Programs\\Python\\Python311\\Lib\\site-packages\\requests\\sessions.py:703\u001b[0m, in \u001b[0;36mSession.send\u001b[1;34m(self, request, **kwargs)\u001b[0m\n\u001b[0;32m    700\u001b[0m start \u001b[39m=\u001b[39m preferred_clock()\n\u001b[0;32m    702\u001b[0m \u001b[39m# Send the request\u001b[39;00m\n\u001b[1;32m--> 703\u001b[0m r \u001b[39m=\u001b[39m adapter\u001b[39m.\u001b[39;49msend(request, \u001b[39m*\u001b[39;49m\u001b[39m*\u001b[39;49mkwargs)\n\u001b[0;32m    705\u001b[0m \u001b[39m# Total elapsed time of the request (approximately)\u001b[39;00m\n\u001b[0;32m    706\u001b[0m elapsed \u001b[39m=\u001b[39m preferred_clock() \u001b[39m-\u001b[39m start\n",
      "File \u001b[1;32mc:\\Users\\aryr1\\AppData\\Local\\Programs\\Python\\Python311\\Lib\\site-packages\\requests\\adapters.py:486\u001b[0m, in \u001b[0;36mHTTPAdapter.send\u001b[1;34m(self, request, stream, timeout, verify, cert, proxies)\u001b[0m\n\u001b[0;32m    483\u001b[0m     timeout \u001b[39m=\u001b[39m TimeoutSauce(connect\u001b[39m=\u001b[39mtimeout, read\u001b[39m=\u001b[39mtimeout)\n\u001b[0;32m    485\u001b[0m \u001b[39mtry\u001b[39;00m:\n\u001b[1;32m--> 486\u001b[0m     resp \u001b[39m=\u001b[39m conn\u001b[39m.\u001b[39;49murlopen(\n\u001b[0;32m    487\u001b[0m         method\u001b[39m=\u001b[39;49mrequest\u001b[39m.\u001b[39;49mmethod,\n\u001b[0;32m    488\u001b[0m         url\u001b[39m=\u001b[39;49murl,\n\u001b[0;32m    489\u001b[0m         body\u001b[39m=\u001b[39;49mrequest\u001b[39m.\u001b[39;49mbody,\n\u001b[0;32m    490\u001b[0m         headers\u001b[39m=\u001b[39;49mrequest\u001b[39m.\u001b[39;49mheaders,\n\u001b[0;32m    491\u001b[0m         redirect\u001b[39m=\u001b[39;49m\u001b[39mFalse\u001b[39;49;00m,\n\u001b[0;32m    492\u001b[0m         assert_same_host\u001b[39m=\u001b[39;49m\u001b[39mFalse\u001b[39;49;00m,\n\u001b[0;32m    493\u001b[0m         preload_content\u001b[39m=\u001b[39;49m\u001b[39mFalse\u001b[39;49;00m,\n\u001b[0;32m    494\u001b[0m         decode_content\u001b[39m=\u001b[39;49m\u001b[39mFalse\u001b[39;49;00m,\n\u001b[0;32m    495\u001b[0m         retries\u001b[39m=\u001b[39;49m\u001b[39mself\u001b[39;49m\u001b[39m.\u001b[39;49mmax_retries,\n\u001b[0;32m    496\u001b[0m         timeout\u001b[39m=\u001b[39;49mtimeout,\n\u001b[0;32m    497\u001b[0m         chunked\u001b[39m=\u001b[39;49mchunked,\n\u001b[0;32m    498\u001b[0m     )\n\u001b[0;32m    500\u001b[0m \u001b[39mexcept\u001b[39;00m (ProtocolError, \u001b[39mOSError\u001b[39;00m) \u001b[39mas\u001b[39;00m err:\n\u001b[0;32m    501\u001b[0m     \u001b[39mraise\u001b[39;00m \u001b[39mConnectionError\u001b[39;00m(err, request\u001b[39m=\u001b[39mrequest)\n",
      "File \u001b[1;32mc:\\Users\\aryr1\\AppData\\Local\\Programs\\Python\\Python311\\Lib\\site-packages\\urllib3\\connectionpool.py:714\u001b[0m, in \u001b[0;36mHTTPConnectionPool.urlopen\u001b[1;34m(self, method, url, body, headers, retries, redirect, assert_same_host, timeout, pool_timeout, release_conn, chunked, body_pos, **response_kw)\u001b[0m\n\u001b[0;32m    711\u001b[0m     \u001b[39mself\u001b[39m\u001b[39m.\u001b[39m_prepare_proxy(conn)\n\u001b[0;32m    713\u001b[0m \u001b[39m# Make the request on the httplib connection object.\u001b[39;00m\n\u001b[1;32m--> 714\u001b[0m httplib_response \u001b[39m=\u001b[39m \u001b[39mself\u001b[39;49m\u001b[39m.\u001b[39;49m_make_request(\n\u001b[0;32m    715\u001b[0m     conn,\n\u001b[0;32m    716\u001b[0m     method,\n\u001b[0;32m    717\u001b[0m     url,\n\u001b[0;32m    718\u001b[0m     timeout\u001b[39m=\u001b[39;49mtimeout_obj,\n\u001b[0;32m    719\u001b[0m     body\u001b[39m=\u001b[39;49mbody,\n\u001b[0;32m    720\u001b[0m     headers\u001b[39m=\u001b[39;49mheaders,\n\u001b[0;32m    721\u001b[0m     chunked\u001b[39m=\u001b[39;49mchunked,\n\u001b[0;32m    722\u001b[0m )\n\u001b[0;32m    724\u001b[0m \u001b[39m# If we're going to release the connection in ``finally:``, then\u001b[39;00m\n\u001b[0;32m    725\u001b[0m \u001b[39m# the response doesn't need to know about the connection. Otherwise\u001b[39;00m\n\u001b[0;32m    726\u001b[0m \u001b[39m# it will also try to release it and we'll have a double-release\u001b[39;00m\n\u001b[0;32m    727\u001b[0m \u001b[39m# mess.\u001b[39;00m\n\u001b[0;32m    728\u001b[0m response_conn \u001b[39m=\u001b[39m conn \u001b[39mif\u001b[39;00m \u001b[39mnot\u001b[39;00m release_conn \u001b[39melse\u001b[39;00m \u001b[39mNone\u001b[39;00m\n",
      "File \u001b[1;32mc:\\Users\\aryr1\\AppData\\Local\\Programs\\Python\\Python311\\Lib\\site-packages\\urllib3\\connectionpool.py:403\u001b[0m, in \u001b[0;36mHTTPConnectionPool._make_request\u001b[1;34m(self, conn, method, url, timeout, chunked, **httplib_request_kw)\u001b[0m\n\u001b[0;32m    401\u001b[0m \u001b[39m# Trigger any extra validation we need to do.\u001b[39;00m\n\u001b[0;32m    402\u001b[0m \u001b[39mtry\u001b[39;00m:\n\u001b[1;32m--> 403\u001b[0m     \u001b[39mself\u001b[39;49m\u001b[39m.\u001b[39;49m_validate_conn(conn)\n\u001b[0;32m    404\u001b[0m \u001b[39mexcept\u001b[39;00m (SocketTimeout, BaseSSLError) \u001b[39mas\u001b[39;00m e:\n\u001b[0;32m    405\u001b[0m     \u001b[39m# Py2 raises this as a BaseSSLError, Py3 raises it as socket timeout.\u001b[39;00m\n\u001b[0;32m    406\u001b[0m     \u001b[39mself\u001b[39m\u001b[39m.\u001b[39m_raise_timeout(err\u001b[39m=\u001b[39me, url\u001b[39m=\u001b[39murl, timeout_value\u001b[39m=\u001b[39mconn\u001b[39m.\u001b[39mtimeout)\n",
      "File \u001b[1;32mc:\\Users\\aryr1\\AppData\\Local\\Programs\\Python\\Python311\\Lib\\site-packages\\urllib3\\connectionpool.py:1053\u001b[0m, in \u001b[0;36mHTTPSConnectionPool._validate_conn\u001b[1;34m(self, conn)\u001b[0m\n\u001b[0;32m   1051\u001b[0m \u001b[39m# Force connect early to allow us to validate the connection.\u001b[39;00m\n\u001b[0;32m   1052\u001b[0m \u001b[39mif\u001b[39;00m \u001b[39mnot\u001b[39;00m \u001b[39mgetattr\u001b[39m(conn, \u001b[39m\"\u001b[39m\u001b[39msock\u001b[39m\u001b[39m\"\u001b[39m, \u001b[39mNone\u001b[39;00m):  \u001b[39m# AppEngine might not have  `.sock`\u001b[39;00m\n\u001b[1;32m-> 1053\u001b[0m     conn\u001b[39m.\u001b[39;49mconnect()\n\u001b[0;32m   1055\u001b[0m \u001b[39mif\u001b[39;00m \u001b[39mnot\u001b[39;00m conn\u001b[39m.\u001b[39mis_verified:\n\u001b[0;32m   1056\u001b[0m     warnings\u001b[39m.\u001b[39mwarn(\n\u001b[0;32m   1057\u001b[0m         (\n\u001b[0;32m   1058\u001b[0m             \u001b[39m\"\u001b[39m\u001b[39mUnverified HTTPS request is being made to host \u001b[39m\u001b[39m'\u001b[39m\u001b[39m%s\u001b[39;00m\u001b[39m'\u001b[39m\u001b[39m. \u001b[39m\u001b[39m\"\u001b[39m\n\u001b[1;32m   (...)\u001b[0m\n\u001b[0;32m   1063\u001b[0m         InsecureRequestWarning,\n\u001b[0;32m   1064\u001b[0m     )\n",
      "File \u001b[1;32mc:\\Users\\aryr1\\AppData\\Local\\Programs\\Python\\Python311\\Lib\\site-packages\\urllib3\\connection.py:419\u001b[0m, in \u001b[0;36mHTTPSConnection.connect\u001b[1;34m(self)\u001b[0m\n\u001b[0;32m    410\u001b[0m \u001b[39mif\u001b[39;00m (\n\u001b[0;32m    411\u001b[0m     \u001b[39mnot\u001b[39;00m \u001b[39mself\u001b[39m\u001b[39m.\u001b[39mca_certs\n\u001b[0;32m    412\u001b[0m     \u001b[39mand\u001b[39;00m \u001b[39mnot\u001b[39;00m \u001b[39mself\u001b[39m\u001b[39m.\u001b[39mca_cert_dir\n\u001b[1;32m   (...)\u001b[0m\n\u001b[0;32m    415\u001b[0m     \u001b[39mand\u001b[39;00m \u001b[39mhasattr\u001b[39m(context, \u001b[39m\"\u001b[39m\u001b[39mload_default_certs\u001b[39m\u001b[39m\"\u001b[39m)\n\u001b[0;32m    416\u001b[0m ):\n\u001b[0;32m    417\u001b[0m     context\u001b[39m.\u001b[39mload_default_certs()\n\u001b[1;32m--> 419\u001b[0m \u001b[39mself\u001b[39m\u001b[39m.\u001b[39msock \u001b[39m=\u001b[39m ssl_wrap_socket(\n\u001b[0;32m    420\u001b[0m     sock\u001b[39m=\u001b[39;49mconn,\n\u001b[0;32m    421\u001b[0m     keyfile\u001b[39m=\u001b[39;49m\u001b[39mself\u001b[39;49m\u001b[39m.\u001b[39;49mkey_file,\n\u001b[0;32m    422\u001b[0m     certfile\u001b[39m=\u001b[39;49m\u001b[39mself\u001b[39;49m\u001b[39m.\u001b[39;49mcert_file,\n\u001b[0;32m    423\u001b[0m     key_password\u001b[39m=\u001b[39;49m\u001b[39mself\u001b[39;49m\u001b[39m.\u001b[39;49mkey_password,\n\u001b[0;32m    424\u001b[0m     ca_certs\u001b[39m=\u001b[39;49m\u001b[39mself\u001b[39;49m\u001b[39m.\u001b[39;49mca_certs,\n\u001b[0;32m    425\u001b[0m     ca_cert_dir\u001b[39m=\u001b[39;49m\u001b[39mself\u001b[39;49m\u001b[39m.\u001b[39;49mca_cert_dir,\n\u001b[0;32m    426\u001b[0m     ca_cert_data\u001b[39m=\u001b[39;49m\u001b[39mself\u001b[39;49m\u001b[39m.\u001b[39;49mca_cert_data,\n\u001b[0;32m    427\u001b[0m     server_hostname\u001b[39m=\u001b[39;49mserver_hostname,\n\u001b[0;32m    428\u001b[0m     ssl_context\u001b[39m=\u001b[39;49mcontext,\n\u001b[0;32m    429\u001b[0m     tls_in_tls\u001b[39m=\u001b[39;49mtls_in_tls,\n\u001b[0;32m    430\u001b[0m )\n\u001b[0;32m    432\u001b[0m \u001b[39m# If we're using all defaults and the connection\u001b[39;00m\n\u001b[0;32m    433\u001b[0m \u001b[39m# is TLSv1 or TLSv1.1 we throw a DeprecationWarning\u001b[39;00m\n\u001b[0;32m    434\u001b[0m \u001b[39m# for the host.\u001b[39;00m\n\u001b[0;32m    435\u001b[0m \u001b[39mif\u001b[39;00m (\n\u001b[0;32m    436\u001b[0m     default_ssl_context\n\u001b[0;32m    437\u001b[0m     \u001b[39mand\u001b[39;00m \u001b[39mself\u001b[39m\u001b[39m.\u001b[39mssl_version \u001b[39mis\u001b[39;00m \u001b[39mNone\u001b[39;00m\n\u001b[0;32m    438\u001b[0m     \u001b[39mand\u001b[39;00m \u001b[39mhasattr\u001b[39m(\u001b[39mself\u001b[39m\u001b[39m.\u001b[39msock, \u001b[39m\"\u001b[39m\u001b[39mversion\u001b[39m\u001b[39m\"\u001b[39m)\n\u001b[0;32m    439\u001b[0m     \u001b[39mand\u001b[39;00m \u001b[39mself\u001b[39m\u001b[39m.\u001b[39msock\u001b[39m.\u001b[39mversion() \u001b[39min\u001b[39;00m {\u001b[39m\"\u001b[39m\u001b[39mTLSv1\u001b[39m\u001b[39m\"\u001b[39m, \u001b[39m\"\u001b[39m\u001b[39mTLSv1.1\u001b[39m\u001b[39m\"\u001b[39m}\n\u001b[0;32m    440\u001b[0m ):\n",
      "File \u001b[1;32mc:\\Users\\aryr1\\AppData\\Local\\Programs\\Python\\Python311\\Lib\\site-packages\\urllib3\\util\\ssl_.py:449\u001b[0m, in \u001b[0;36mssl_wrap_socket\u001b[1;34m(sock, keyfile, certfile, cert_reqs, ca_certs, server_hostname, ssl_version, ciphers, ssl_context, ca_cert_dir, key_password, ca_cert_data, tls_in_tls)\u001b[0m\n\u001b[0;32m    437\u001b[0m     warnings\u001b[39m.\u001b[39mwarn(\n\u001b[0;32m    438\u001b[0m         \u001b[39m\"\u001b[39m\u001b[39mAn HTTPS request has been made, but the SNI (Server Name \u001b[39m\u001b[39m\"\u001b[39m\n\u001b[0;32m    439\u001b[0m         \u001b[39m\"\u001b[39m\u001b[39mIndication) extension to TLS is not available on this platform. \u001b[39m\u001b[39m\"\u001b[39m\n\u001b[1;32m   (...)\u001b[0m\n\u001b[0;32m    445\u001b[0m         SNIMissingWarning,\n\u001b[0;32m    446\u001b[0m     )\n\u001b[0;32m    448\u001b[0m \u001b[39mif\u001b[39;00m send_sni:\n\u001b[1;32m--> 449\u001b[0m     ssl_sock \u001b[39m=\u001b[39m _ssl_wrap_socket_impl(\n\u001b[0;32m    450\u001b[0m         sock, context, tls_in_tls, server_hostname\u001b[39m=\u001b[39;49mserver_hostname\n\u001b[0;32m    451\u001b[0m     )\n\u001b[0;32m    452\u001b[0m \u001b[39melse\u001b[39;00m:\n\u001b[0;32m    453\u001b[0m     ssl_sock \u001b[39m=\u001b[39m _ssl_wrap_socket_impl(sock, context, tls_in_tls)\n",
      "File \u001b[1;32mc:\\Users\\aryr1\\AppData\\Local\\Programs\\Python\\Python311\\Lib\\site-packages\\urllib3\\util\\ssl_.py:493\u001b[0m, in \u001b[0;36m_ssl_wrap_socket_impl\u001b[1;34m(sock, ssl_context, tls_in_tls, server_hostname)\u001b[0m\n\u001b[0;32m    490\u001b[0m     \u001b[39mreturn\u001b[39;00m SSLTransport(sock, ssl_context, server_hostname)\n\u001b[0;32m    492\u001b[0m \u001b[39mif\u001b[39;00m server_hostname:\n\u001b[1;32m--> 493\u001b[0m     \u001b[39mreturn\u001b[39;00m ssl_context\u001b[39m.\u001b[39;49mwrap_socket(sock, server_hostname\u001b[39m=\u001b[39;49mserver_hostname)\n\u001b[0;32m    494\u001b[0m \u001b[39melse\u001b[39;00m:\n\u001b[0;32m    495\u001b[0m     \u001b[39mreturn\u001b[39;00m ssl_context\u001b[39m.\u001b[39mwrap_socket(sock)\n",
      "File \u001b[1;32mc:\\Users\\aryr1\\AppData\\Local\\Programs\\Python\\Python311\\Lib\\ssl.py:517\u001b[0m, in \u001b[0;36mSSLContext.wrap_socket\u001b[1;34m(self, sock, server_side, do_handshake_on_connect, suppress_ragged_eofs, server_hostname, session)\u001b[0m\n\u001b[0;32m    511\u001b[0m \u001b[39mdef\u001b[39;00m \u001b[39mwrap_socket\u001b[39m(\u001b[39mself\u001b[39m, sock, server_side\u001b[39m=\u001b[39m\u001b[39mFalse\u001b[39;00m,\n\u001b[0;32m    512\u001b[0m                 do_handshake_on_connect\u001b[39m=\u001b[39m\u001b[39mTrue\u001b[39;00m,\n\u001b[0;32m    513\u001b[0m                 suppress_ragged_eofs\u001b[39m=\u001b[39m\u001b[39mTrue\u001b[39;00m,\n\u001b[0;32m    514\u001b[0m                 server_hostname\u001b[39m=\u001b[39m\u001b[39mNone\u001b[39;00m, session\u001b[39m=\u001b[39m\u001b[39mNone\u001b[39;00m):\n\u001b[0;32m    515\u001b[0m     \u001b[39m# SSLSocket class handles server_hostname encoding before it calls\u001b[39;00m\n\u001b[0;32m    516\u001b[0m     \u001b[39m# ctx._wrap_socket()\u001b[39;00m\n\u001b[1;32m--> 517\u001b[0m     \u001b[39mreturn\u001b[39;00m \u001b[39mself\u001b[39;49m\u001b[39m.\u001b[39;49msslsocket_class\u001b[39m.\u001b[39;49m_create(\n\u001b[0;32m    518\u001b[0m         sock\u001b[39m=\u001b[39;49msock,\n\u001b[0;32m    519\u001b[0m         server_side\u001b[39m=\u001b[39;49mserver_side,\n\u001b[0;32m    520\u001b[0m         do_handshake_on_connect\u001b[39m=\u001b[39;49mdo_handshake_on_connect,\n\u001b[0;32m    521\u001b[0m         suppress_ragged_eofs\u001b[39m=\u001b[39;49msuppress_ragged_eofs,\n\u001b[0;32m    522\u001b[0m         server_hostname\u001b[39m=\u001b[39;49mserver_hostname,\n\u001b[0;32m    523\u001b[0m         context\u001b[39m=\u001b[39;49m\u001b[39mself\u001b[39;49m,\n\u001b[0;32m    524\u001b[0m         session\u001b[39m=\u001b[39;49msession\n\u001b[0;32m    525\u001b[0m     )\n",
      "File \u001b[1;32mc:\\Users\\aryr1\\AppData\\Local\\Programs\\Python\\Python311\\Lib\\ssl.py:1108\u001b[0m, in \u001b[0;36mSSLSocket._create\u001b[1;34m(cls, sock, server_side, do_handshake_on_connect, suppress_ragged_eofs, server_hostname, context, session)\u001b[0m\n\u001b[0;32m   1105\u001b[0m         \u001b[39mif\u001b[39;00m timeout \u001b[39m==\u001b[39m \u001b[39m0.0\u001b[39m:\n\u001b[0;32m   1106\u001b[0m             \u001b[39m# non-blocking\u001b[39;00m\n\u001b[0;32m   1107\u001b[0m             \u001b[39mraise\u001b[39;00m \u001b[39mValueError\u001b[39;00m(\u001b[39m\"\u001b[39m\u001b[39mdo_handshake_on_connect should not be specified for non-blocking sockets\u001b[39m\u001b[39m\"\u001b[39m)\n\u001b[1;32m-> 1108\u001b[0m         \u001b[39mself\u001b[39;49m\u001b[39m.\u001b[39;49mdo_handshake()\n\u001b[0;32m   1109\u001b[0m \u001b[39mexcept\u001b[39;00m (\u001b[39mOSError\u001b[39;00m, \u001b[39mValueError\u001b[39;00m):\n\u001b[0;32m   1110\u001b[0m     \u001b[39mself\u001b[39m\u001b[39m.\u001b[39mclose()\n",
      "File \u001b[1;32mc:\\Users\\aryr1\\AppData\\Local\\Programs\\Python\\Python311\\Lib\\ssl.py:1379\u001b[0m, in \u001b[0;36mSSLSocket.do_handshake\u001b[1;34m(self, block)\u001b[0m\n\u001b[0;32m   1377\u001b[0m     \u001b[39mif\u001b[39;00m timeout \u001b[39m==\u001b[39m \u001b[39m0.0\u001b[39m \u001b[39mand\u001b[39;00m block:\n\u001b[0;32m   1378\u001b[0m         \u001b[39mself\u001b[39m\u001b[39m.\u001b[39msettimeout(\u001b[39mNone\u001b[39;00m)\n\u001b[1;32m-> 1379\u001b[0m     \u001b[39mself\u001b[39m\u001b[39m.\u001b[39m_sslobj\u001b[39m.\u001b[39mdo_handshake()\n\u001b[0;32m   1380\u001b[0m \u001b[39mfinally\u001b[39;00m:\n\u001b[0;32m   1381\u001b[0m     \u001b[39mself\u001b[39m\u001b[39m.\u001b[39msettimeout(timeout)\n",
      "\u001b[1;31mKeyboardInterrupt\u001b[0m: "
     ]
    }
   ],
   "source": [
    "import random\n",
    "\n",
    "# Define the wildfire location and node distance\n",
    "wildfire_lat = 39.819\n",
    "wildfire_lon = -121.419\n",
    "node_dist = .0009\n",
    "\n",
    "# Initialize the scheduler and burned sets\n",
    "scheduler = {\n",
    "    0: {(wildfire_lon, wildfire_lat)}\n",
    "}\n",
    "burned = set()\n",
    "\n",
    "# Task tracking\n",
    "last_task = 0\n",
    "cur_task = 0\n",
    "\n",
    "# Define the datasets\n",
    "image_elevation = ee.Image(\"NASA/NASADEM_HGT/001\").select('elevation')\n",
    "image_temperature = ee.ImageCollection(\"MODIS/061/MOD11A1\").select('LST_Day_1km')\n",
    "image_biomass = ee.ImageCollection(\"WCMC/biomass_carbon_density/v1_0\").select('carbon_tonnes_per_ha')\n",
    "image_winddir = ee.ImageCollection('IDAHO_EPSCOR/GRIDMET').select('th')  #homogenous\n",
    "image_windvel = ee.ImageCollection('IDAHO_EPSCOR/GRIDMET').select('vs') #homogenous\n",
    "image_moisture = ee.ImageCollection(\"NASA_USDA/HSL/SMAP10KM_soil_moisture\").select('ssm')  # Placeholder for moisture dataset\n",
    "\n",
    "# Function to retrieve dataset values\n",
    "def dataset_value(dataset, lon, lat):\n",
    "    point = ee.Geometry.Point([lon, lat])\n",
    "    if isinstance(dataset, ee.imagecollection.ImageCollection):\n",
    "        dataset = dataset.mean()\n",
    "    value = dataset.reduceRegion(\n",
    "        reducer=ee.Reducer.first(), \n",
    "        geometry=point, \n",
    "        scale=30\n",
    "    ).getInfo()\n",
    "    return value\n",
    "\n",
    "homowinddir = dataset_value(image_winddir, wildfire_lon, wildfire_lat)['th']\n",
    "homowindvel = dataset_value(image_windvel, wildfire_lon, wildfire_lat)['vs']\n",
    "\n",
    "def calc_prob(node1, node2):\n",
    "    biomass2 = dataset_value(image_biomass, *node2)['carbon_tonnes_per_ha']\n",
    "    elevdiff = dataset_value(image_elevation, *node1)['elevation']-dataset_value(image_elevation, *node2)['elevation']\n",
    "    moisture2 = dataset_value(image_moisture, *node2)['ssm']\n",
    "    # Simplified probability calculation\n",
    "    pn = biomass2/891  # Nominal fire spread probability (assumed)\n",
    "    curnode_dist = node_dist\n",
    "    if node2[0] != node1[0] and node2[1] != node1[1]:\n",
    "        curnode_dist *= 2**.5\n",
    "    slope = elevdiff / (curnode_dist)\n",
    "    if slope < -1:\n",
    "        slope = -1\n",
    "    if slope > 1:\n",
    "        slope = 1\n",
    "    alpha_h = 2**slope\n",
    "    alpha_w = homowindvel/30\n",
    "    alpha_wh = alpha_w*alpha_h  # Modified for elevation and wind\n",
    "    fuel_moisture = moisture2/25.39\n",
    "    em = -4*(fuel_moisture-.5)**3+.5 # Modified for temperature, biomass, and moisture\n",
    "    \n",
    "    pij = (1 - (1 - pn) ** alpha_wh) * em\n",
    "    return 25*pij\n",
    "\n",
    "def calc_time(node1, node2):\n",
    "    biomass1 = dataset_value(image_biomass, *node1)['carbon_tonnes_per_ha']\n",
    "    elevdiff = dataset_value(image_elevation, *node1)['elevation']-dataset_value(image_elevation, *node2)['elevation']\n",
    "    moisture1 = dataset_value(image_moisture, *node1)['ssm']\n",
    "    curnode_dist = node_dist\n",
    "    if node2[0] != node1[0] and node2[1] != node1[1]:\n",
    "        curnode_dist *= 2**.5 # Distance between cells (assumed)\n",
    "    slope = elevdiff / (curnode_dist)\n",
    "    if slope < -1:\n",
    "        slope = -1\n",
    "    if slope > 1:\n",
    "        slope = 1\n",
    "    vprop = (biomass1/445.5*140+60)*(2.718**(.1783*homowindvel))*(2.718**(3.533*(abs(slope))**1.2))\n",
    "    fm = 2.718**(-.014*moisture1) # + moisture_factor * 0.01  # Modified for moisture\n",
    "    \n",
    "    delta_t = curnode_dist / (vprop * fm)\n",
    "    return delta_t//1+1\n",
    "\n",
    "# Main simulation loop\n",
    "while cur_task <= last_task:\n",
    "    if cur_task in scheduler:\n",
    "        for node in scheduler[cur_task]:\n",
    "            for lon_dist in range(-1, 2):\n",
    "                for lat_dist in range(-1, 2):\n",
    "                    if lon_dist == 0 and lat_dist == 0:\n",
    "                        continue\n",
    "                    next_node = (node[0] - lon_dist * node_dist, node[1] - lat_dist * node_dist)\n",
    "                    if next_node in burned:\n",
    "                        continue\n",
    "                    if random.random() > calc_prob(node, next_node):\n",
    "                        continue\n",
    "                    next_time = calc_time(node, next_node) + cur_task\n",
    "                    last_task = max(last_task, next_time)\n",
    "                    if next_time in scheduler:\n",
    "                        scheduler[next_time].add(next_node)\n",
    "                    else:\n",
    "                        scheduler[next_time] = {next_node}\n",
    "            burned.add(node)\n",
    "    cur_task += 1\n",
    "\n",
    "# Output the results\n",
    "print(scheduler)\n",
    "print(burned)\n"
   ]
  },
  {
   "cell_type": "code",
   "execution_count": 18,
   "metadata": {},
   "outputs": [
    {
     "data": {
      "text/html": [
       "\n",
       "            <style>\n",
       "                .geemap-dark {\n",
       "                    --jp-widgets-color: white;\n",
       "                    --jp-widgets-label-color: white;\n",
       "                    --jp-ui-font-color1: white;\n",
       "                    --jp-layout-color2: #454545;\n",
       "                    background-color: #383838;\n",
       "                }\n",
       "                    \n",
       "                .geemap-dark .jupyter-button {\n",
       "                    --jp-layout-color3: #383838;\n",
       "                }\n",
       "                \n",
       "                .geemap-colab {\n",
       "                    background-color: var(--colab-primary-surface-color, white);\n",
       "                }\n",
       "                    \n",
       "                .geemap-colab .jupyter-button {\n",
       "                    --jp-layout-color3: var(--colab-primary-surface-color, white);\n",
       "                }\n",
       "            </style>\n",
       "            "
      ],
      "text/plain": [
       "<IPython.core.display.HTML object>"
      ]
     },
     "metadata": {},
     "output_type": "display_data"
    },
    {
     "data": {
      "application/vnd.jupyter.widget-view+json": {
       "model_id": "bdca7ba99dca4794b05fd0f615ec5631",
       "version_major": 2,
       "version_minor": 0
      },
      "text/plain": [
       "Map(center=[0, 0], controls=(WidgetControl(options=['position', 'transparent_bg'], widget=SearchDataGUI(childr…"
      ]
     },
     "execution_count": 18,
     "metadata": {},
     "output_type": "execute_result"
    }
   ],
   "source": [
    "import geemap\n",
    "Map = geemap.Map()\n",
    "\n",
    "# Inside your loop, after calculating the next burning cells\n",
    "# Convert your burned cells to a FeatureCollection\n",
    "burned_feature_collection = ee.FeatureCollection([ee.Feature(ee.Geometry.Point(lon, lat)) for lon, lat in burned])\n",
    "\n",
    "# Style the layer\n",
    "style = {'color': 'red', 'fillColor': '00000000'}\n",
    "\n",
    "# Add the layer to the map\n",
    "Map.addLayer(burned_feature_collection.style(**style), {}, 'Burned Area')\n",
    "\n",
    "# To update the map in the notebook\n",
    "Map  # This will display the updated map in the notebook cell\n"
   ]
  }
 ],
 "metadata": {
  "kernelspec": {
   "display_name": "Python 3",
   "language": "python",
   "name": "python3"
  },
  "language_info": {
   "codemirror_mode": {
    "name": "ipython",
    "version": 3
   },
   "file_extension": ".py",
   "mimetype": "text/x-python",
   "name": "python",
   "nbconvert_exporter": "python",
   "pygments_lexer": "ipython3",
   "version": "3.11.6"
  }
 },
 "nbformat": 4,
 "nbformat_minor": 2
}
