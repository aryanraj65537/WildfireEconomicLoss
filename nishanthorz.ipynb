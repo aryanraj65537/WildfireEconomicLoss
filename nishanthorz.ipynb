{
 "cells": [
  {
   "cell_type": "code",
   "execution_count": 1,
   "metadata": {},
   "outputs": [
    {
     "data": {
      "text/html": [
       "<p>To authorize access needed by Earth Engine, open the following\n",
       "        URL in a web browser and follow the instructions:</p>\n",
       "        <p><a href=https://code.earthengine.google.com/client-auth?scopes=https%3A//www.googleapis.com/auth/earthengine%20https%3A//www.googleapis.com/auth/devstorage.full_control&request_id=gcZX4ac1Ocv9GlkIGrj_AhlRs3kp2KRRae0XggFpcLE&tc=BQdKZDOubMnUXK-OLEFQEOMfj_-NyK6VTrAxXJ_IhJw&cc=0tMTQcNODsUE2G5FGsZfdvOQMBrFal7v98Y2v5JcQp4>https://code.earthengine.google.com/client-auth?scopes=https%3A//www.googleapis.com/auth/earthengine%20https%3A//www.googleapis.com/auth/devstorage.full_control&request_id=gcZX4ac1Ocv9GlkIGrj_AhlRs3kp2KRRae0XggFpcLE&tc=BQdKZDOubMnUXK-OLEFQEOMfj_-NyK6VTrAxXJ_IhJw&cc=0tMTQcNODsUE2G5FGsZfdvOQMBrFal7v98Y2v5JcQp4</a></p>\n",
       "        <p>The authorization workflow will generate a code, which you should paste in the box below.</p>\n",
       "        "
      ],
      "text/plain": [
       "<IPython.core.display.HTML object>"
      ]
     },
     "metadata": {},
     "output_type": "display_data"
    },
    {
     "name": "stdout",
     "output_type": "stream",
     "text": [
      "\n",
      "Successfully saved authorization token.\n"
     ]
    }
   ],
   "source": [
    "import ee\n",
    "\n",
    "# Initialize Earth Engine\n",
    "ee.Authenticate()\n",
    "ee.Initialize()"
   ]
  },
  {
   "cell_type": "code",
   "execution_count": 2,
   "metadata": {},
   "outputs": [
    {
     "name": "stdout",
     "output_type": "stream",
     "text": [
      "{0: {(0, 0)}, 1: {(0, 1), (-1, -1), (-1, 1), (1, 1), (0, -1)}, 2: {(1, 1), (1, -1), (-1, 0), (1, 0), (0, -1)}, 3: {(1, 0)}}\n",
      "{(-11, 2), (-30, -2), (-19, -2), (-2, 14), (2, -25), (-2, 23), (2, -16), (2, -7), (-9, 2), (2, 2), (-17, -2), (2, 11), (-2, -11), (6, 2), (-13, -2), (-2, -2), (-1, -2), (-2, -1), (-1, -1), (-2, 7), (4, 2), (-2, 16), (2, -23), (-2, 25), (2, -14), (8, 2), (19, 2), (0, -2), (11, -2), (2, -5), (0, -1), (2, 4), (-2, -18), (15, -2), (26, -2), (-2, -9), (21, 2), (-2, 0), (-1, 0), (-2, 9), (2, 25), (-19, 2), (-30, 2), (2, -30), (-27, -2), (-2, 18), (17, -2), (28, -2), (2, -21), (2, -12), (-23, -2), (2, -3), (0, 0), (-2, -25), (-17, 2), (-2, -16), (-2, -7), (-2, 2), (-1, 2), (-13, 2), (-21, -2), (-10, -2), (-2, 11), (2, 27), (2, -28), (-6, -2), (5, -2), (2, -19), (2, -10), (0, 2), (11, 2), (-8, -2), (-2, -23), (-2, -14), (15, 2), (26, 2), (-4, -2), (7, -2), (18, -2), (-2, -5), (-2, 4), (2, 20), (22, -2), (2, 29), (2, -26), (-27, 2), (17, 2), (28, 2), (2, -17), (9, -2), (2, -8), (-23, 2), (-2, -30), (-20, -2), (13, -2), (24, -2), (-2, -21), (-2, -12), (-16, -2), (-2, -3), (2, 13), (2, 22), (-21, 2), (-10, 2), (-29, -2), (2, -24), (-6, 2), (5, 2), (2, -15), (-25, -2), (-14, -2), (-3, -2), (-2, 27), (-2, -28), (-8, 2), (1, -2), (-2, -19), (1, -1), (-2, -10), (2, 6), (-4, 2), (7, 2), (18, 2), (-12, -2), (2, 15), (2, 24), (22, 2), (3, -2), (14, -2), (2, -22), (-2, 20), (9, 2), (-2, 29), (-2, -26), (-20, 2), (13, 2), (24, 2), (-2, -17), (16, -2), (1, 0), (-2, -8), (2, 8), (-16, 2), (-24, -2), (2, 17), (20, -2), (2, 26), (2, -29), (-2, 13), (-2, 22), (-14, 2), (-25, 2), (-3, 2), (-22, -2), (-2, -24), (1, 2), (-2, -15), (2, 1), (-18, -2), (-7, -2), (2, 10), (-12, 2), (2, 19), (2, 28), (2, -27), (-2, 6), (3, 2), (14, 2), (-5, -2), (-2, 15), (-2, 24), (10, -2), (-2, -22), (2, -6), (2, 3), (16, 2), (-2, -4), (2, 12), (-24, 2), (2, 21), (20, 2), (12, -2), (23, -2), (-2, 8), (-28, -2), (-2, 17), (27, -2), (-2, 26), (-2, -29), (-22, 2), (2, -13), (-2, -20), (25, -2), (2, -4), (2, 5), (-18, 2), (-7, 2), (-26, -2), (-15, -2), (29, -2), (2, 14), (2, 23), (-2, 1), (-11, -2), (-1, 1), (-2, 10), (-5, 2), (-29, 2), (-2, 19), (2, -20), (-2, 28), (-2, -27), (2, -11), (10, 2), (0, 1), (-9, -2), (2, -2), (2, -1), (2, 7), (2, 16), (6, -2), (-2, -6), (-2, 3), (12, 2), (23, 2), (4, -2), (-2, 12), (-28, 2), (-2, 21), (27, 2), (2, -18), (8, -2), (19, -2), (2, -9), (1, 1), (25, 2), (2, 0), (2, 9), (-26, 2), (-15, 2), (29, 2), (2, 18), (-2, -13), (21, -2), (-2, 5)}\n"
     ]
    }
   ],
   "source": [
    "import random\n",
    "\n",
    "# Initialize the scheduler and burned sets\n",
    "scheduler = {\n",
    "    0: {(0, 0)}\n",
    "}\n",
    "\n",
    "# Controlled burn\n",
    "burned = set([(i, 2) for i in range(-30, 30)]+[(i, -2) for i in range(-30, 30)]+[(2, i) for i in range(-30, 30)]+[(-2, i) for i in range(-30, 30)])\n",
    "\n",
    "# Task tracking\n",
    "last_task = 0\n",
    "cur_task = 0\n",
    "\n",
    "def calc_prob(node1, node2):\n",
    "    return .5\n",
    "\n",
    "def calc_time(node1, node2):\n",
    "    return 1\n",
    "\n",
    "# Main simulation loop\n",
    "while cur_task <= last_task:\n",
    "    if cur_task in scheduler:\n",
    "        for node in scheduler[cur_task]:\n",
    "            for lon_dist in range(-1, 2):\n",
    "                for lat_dist in range(-1, 2):\n",
    "                    if lon_dist == 0 and lat_dist == 0:\n",
    "                        continue\n",
    "                    next_node = (node[0] - lon_dist, node[1] - lat_dist)\n",
    "                    if next_node in burned:\n",
    "                        continue\n",
    "                    if random.random() > calc_prob(node, next_node):\n",
    "                        continue\n",
    "                    next_time = calc_time(node, next_node) + cur_task\n",
    "                    last_task = max(last_task, next_time)\n",
    "                    if next_time in scheduler:\n",
    "                        scheduler[next_time].add(next_node)\n",
    "                    else:\n",
    "                        scheduler[next_time] = {next_node}\n",
    "            burned.add(node)\n",
    "    cur_task += 1\n",
    "\n",
    "# Output the results\n",
    "print(scheduler)\n",
    "print(burned)\n"
   ]
  },
  {
   "cell_type": "code",
   "execution_count": 3,
   "metadata": {},
   "outputs": [
    {
     "name": "stdout",
     "output_type": "stream",
     "text": [
      "{(-11, 2), (-30, -2), (-19, -2), (-2, 14), (2, -25), (-2, 23), (2, -16), (2, -7), (-9, 2), (2, 2), (-17, -2), (2, 11), (-2, -11), (6, 2), (-13, -2), (-2, -2), (-1, -2), (-2, -1), (-1, -1), (-2, 7), (4, 2), (-2, 16), (2, -23), (-2, 25), (2, -14), (8, 2), (19, 2), (0, -2), (11, -2), (2, -5), (0, -1), (2, 4), (-2, -18), (15, -2), (26, -2), (-2, -9), (21, 2), (-2, 0), (-1, 0), (-2, 9), (2, 25), (-19, 2), (-30, 2), (2, -30), (-27, -2), (-2, 18), (17, -2), (28, -2), (2, -21), (2, -12), (-23, -2), (2, -3), (0, 0), (-2, -25), (-17, 2), (-2, -16), (-2, -7), (-2, 2), (-1, 2), (-13, 2), (-21, -2), (-10, -2), (-2, 11), (2, 27), (2, -28), (-6, -2), (5, -2), (2, -19), (2, -10), (0, 2), (11, 2), (-8, -2), (-2, -23), (-2, -14), (15, 2), (26, 2), (-4, -2), (7, -2), (18, -2), (-2, -5), (-2, 4), (2, 20), (22, -2), (2, 29), (2, -26), (-27, 2), (17, 2), (28, 2), (2, -17), (9, -2), (2, -8), (-23, 2), (-2, -30), (-20, -2), (13, -2), (24, -2), (-2, -21), (-2, -12), (-16, -2), (-2, -3), (2, 13), (2, 22), (-21, 2), (-10, 2), (-29, -2), (2, -24), (-6, 2), (5, 2), (2, -15), (-25, -2), (-14, -2), (-3, -2), (-2, 27), (-2, -28), (-8, 2), (1, -2), (-2, -19), (1, -1), (-2, -10), (2, 6), (-4, 2), (7, 2), (18, 2), (-12, -2), (2, 15), (2, 24), (22, 2), (3, -2), (14, -2), (2, -22), (-2, 20), (9, 2), (-2, 29), (-2, -26), (-20, 2), (13, 2), (24, 2), (-2, -17), (16, -2), (1, 0), (-2, -8), (2, 8), (-16, 2), (-24, -2), (2, 17), (20, -2), (2, 26), (2, -29), (-2, 13), (-2, 22), (-14, 2), (-25, 2), (-3, 2), (-22, -2), (-2, -24), (1, 2), (-2, -15), (2, 1), (-18, -2), (-7, -2), (2, 10), (-12, 2), (2, 19), (2, 28), (2, -27), (-2, 6), (3, 2), (14, 2), (-5, -2), (-2, 15), (-2, 24), (10, -2), (-2, -22), (2, -6), (2, 3), (16, 2), (-2, -4), (2, 12), (-24, 2), (2, 21), (20, 2), (12, -2), (23, -2), (-2, 8), (-28, -2), (-2, 17), (27, -2), (-2, 26), (-2, -29), (-22, 2), (2, -13), (-2, -20), (25, -2), (2, -4), (2, 5), (-18, 2), (-7, 2), (-26, -2), (-15, -2), (29, -2), (2, 14), (2, 23), (-2, 1), (-11, -2), (-1, 1), (-2, 10), (-5, 2), (-29, 2), (-2, 19), (2, -20), (-2, 28), (-2, -27), (2, -11), (10, 2), (0, 1), (-9, -2), (2, -2), (2, -1), (2, 7), (2, 16), (6, -2), (-2, -6), (-2, 3), (12, 2), (23, 2), (4, -2), (-2, 12), (-28, 2), (-2, 21), (27, 2), (2, -18), (8, -2), (19, -2), (2, -9), (1, 1), (25, 2), (2, 0), (2, 9), (-26, 2), (-15, 2), (29, 2), (2, 18), (-2, -13), (21, -2), (-2, 5)}\n"
     ]
    },
    {
     "data": {
      "application/vnd.jupyter.widget-view+json": {
       "model_id": "ea4e89f9d7144888a1ffaaaf3ed5447d",
       "version_major": 2,
       "version_minor": 0
      },
      "text/plain": [
       "Map(center=[0, 0], controls=(WidgetControl(options=['position', 'transparent_bg'], widget=SearchDataGUI(childr…"
      ]
     },
     "execution_count": 3,
     "metadata": {},
     "output_type": "execute_result"
    }
   ],
   "source": [
    "print(burned)\n",
    "import geemap\n",
    "Map = geemap.Map()\n",
    "\n",
    "wildfire_lat = 39.819\n",
    "wildfire_lon = -121.419\n",
    "node_dist = .0009\n",
    "\n",
    "# Inside your loop, after calculating the next burning cells\n",
    "# Convert your burned cells to a FeatureCollection\n",
    "burned_feature_collection = ee.FeatureCollection([ee.Feature(ee.Geometry.Point(wildfire_lon+lon*node_dist, wildfire_lat+lat*node_dist)) for lon, lat in burned])\n",
    "\n",
    "# Style the layer\n",
    "style = {'color': 'red', 'fillColor': '00000000'}\n",
    "\n",
    "# Add the layer to the map\n",
    "Map.addLayer(burned_feature_collection.style(**style), {}, 'Burned Area')\n",
    "\n",
    "# To update the map in the notebook\n",
    "Map  # This will display the updated map in the notebook cell"
   ]
  }
 ],
 "metadata": {
  "kernelspec": {
   "display_name": "Python 3",
   "language": "python",
   "name": "python3"
  },
  "language_info": {
   "codemirror_mode": {
    "name": "ipython",
    "version": 3
   },
   "file_extension": ".py",
   "mimetype": "text/x-python",
   "name": "python",
   "nbconvert_exporter": "python",
   "pygments_lexer": "ipython3",
   "version": "3.11.6"
  }
 },
 "nbformat": 4,
 "nbformat_minor": 2
}
